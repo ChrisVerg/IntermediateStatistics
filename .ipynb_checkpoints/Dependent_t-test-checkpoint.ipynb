{
 "cells": [
  {
   "cell_type": "markdown",
   "id": "3a825e4d",
   "metadata": {},
   "source": [
    "# Dependent t-Test\n",
    "### Now it's on to the last t-test! Dependent t-tests are used when your samples are related in some way, but you still want to see if the means change. It may be change over time, or change with treatment, etc. A dependent t requires an independent variable that is categorical (groups to compare) and a dependent variable that is continuous."
   ]
  },
  {
   "cell_type": "markdown",
   "id": "90d4a4f6",
   "metadata": {},
   "source": [
    "# Import the data and packages"
   ]
  },
  {
   "cell_type": "code",
   "execution_count": 2,
   "id": "83be7b1d",
   "metadata": {},
   "outputs": [],
   "source": [
    "import pandas as pd\n",
    "from scipy import stats"
   ]
  },
  {
   "cell_type": "code",
   "execution_count": 3,
   "id": "e4aa75c7",
   "metadata": {},
   "outputs": [],
   "source": [
    "# Convert the data from excel to csv\n",
    "hybrid = pd.read_excel('C:/Users/chris/Desktop/data/DS105/Lesson1/hybrid2012-13.xlsx')"
   ]
  },
  {
   "cell_type": "code",
   "execution_count": 4,
   "id": "4388742e",
   "metadata": {},
   "outputs": [],
   "source": [
    "hybrid.to_csv('C:/Users/chris/Desktop/data/DS105/Lesson1/hybrid2012-13.csv')"
   ]
  },
  {
   "cell_type": "code",
   "execution_count": 5,
   "id": "0d3c5895",
   "metadata": {},
   "outputs": [],
   "source": [
    "# importing the data as a csv\n",
    "hy = pd.read_csv('C:/Users/chris/Desktop/data/DS105/Lesson1/hybrid2012-13.csv')"
   ]
  },
  {
   "cell_type": "markdown",
   "id": "6a186f53",
   "metadata": {},
   "source": [
    "# Test to see if the price of hybrid cars changes from 2012 to 2013.\n",
    "### In this instance the DV is compared to the overtime, from 2012 to 2013"
   ]
  },
  {
   "cell_type": "code",
   "execution_count": 6,
   "id": "c628150d",
   "metadata": {},
   "outputs": [
    {
     "data": {
      "text/html": [
       "<div>\n",
       "<style scoped>\n",
       "    .dataframe tbody tr th:only-of-type {\n",
       "        vertical-align: middle;\n",
       "    }\n",
       "\n",
       "    .dataframe tbody tr th {\n",
       "        vertical-align: top;\n",
       "    }\n",
       "\n",
       "    .dataframe thead th {\n",
       "        text-align: right;\n",
       "    }\n",
       "</style>\n",
       "<table border=\"1\" class=\"dataframe\">\n",
       "  <thead>\n",
       "    <tr style=\"text-align: right;\">\n",
       "      <th></th>\n",
       "      <th>Unnamed: 0</th>\n",
       "      <th>vehicle</th>\n",
       "      <th>msrp2012</th>\n",
       "      <th>accelrate2012</th>\n",
       "      <th>mpg2012</th>\n",
       "      <th>mpgmpge2012</th>\n",
       "      <th>carclass2012</th>\n",
       "      <th>carclass_id2012</th>\n",
       "      <th>msrp2013</th>\n",
       "      <th>accelrate2013</th>\n",
       "      <th>mpg2013</th>\n",
       "      <th>mpgmpge2013</th>\n",
       "      <th>carclass2013</th>\n",
       "      <th>carclass_id2013</th>\n",
       "    </tr>\n",
       "  </thead>\n",
       "  <tbody>\n",
       "    <tr>\n",
       "      <th>0</th>\n",
       "      <td>0</td>\n",
       "      <td>ActiveHybrid 3</td>\n",
       "      <td>19006.62</td>\n",
       "      <td>9.35</td>\n",
       "      <td>50</td>\n",
       "      <td>50</td>\n",
       "      <td>C</td>\n",
       "      <td>1</td>\n",
       "      <td>19080</td>\n",
       "      <td>8.70</td>\n",
       "      <td>50</td>\n",
       "      <td>50</td>\n",
       "      <td>C</td>\n",
       "      <td>1</td>\n",
       "    </tr>\n",
       "    <tr>\n",
       "      <th>1</th>\n",
       "      <td>1</td>\n",
       "      <td>ActiveHybrid 5</td>\n",
       "      <td>32095.61</td>\n",
       "      <td>8.82</td>\n",
       "      <td>50</td>\n",
       "      <td>95</td>\n",
       "      <td>M</td>\n",
       "      <td>3</td>\n",
       "      <td>24995</td>\n",
       "      <td>12.66</td>\n",
       "      <td>45</td>\n",
       "      <td>45</td>\n",
       "      <td>C</td>\n",
       "      <td>1</td>\n",
       "    </tr>\n",
       "    <tr>\n",
       "      <th>2</th>\n",
       "      <td>2</td>\n",
       "      <td>Ampera</td>\n",
       "      <td>31739.55</td>\n",
       "      <td>11.11</td>\n",
       "      <td>37</td>\n",
       "      <td>98</td>\n",
       "      <td>C</td>\n",
       "      <td>1</td>\n",
       "      <td>24200</td>\n",
       "      <td>10.20</td>\n",
       "      <td>50</td>\n",
       "      <td>50</td>\n",
       "      <td>M</td>\n",
       "      <td>3</td>\n",
       "    </tr>\n",
       "    <tr>\n",
       "      <th>3</th>\n",
       "      <td>3</td>\n",
       "      <td>Camry LE</td>\n",
       "      <td>62180.23</td>\n",
       "      <td>16.67</td>\n",
       "      <td>26</td>\n",
       "      <td>26</td>\n",
       "      <td>M</td>\n",
       "      <td>3</td>\n",
       "      <td>18600</td>\n",
       "      <td>11.76</td>\n",
       "      <td>42</td>\n",
       "      <td>42</td>\n",
       "      <td>C</td>\n",
       "      <td>1</td>\n",
       "    </tr>\n",
       "    <tr>\n",
       "      <th>4</th>\n",
       "      <td>4</td>\n",
       "      <td>Chevrolet Volt</td>\n",
       "      <td>59126.14</td>\n",
       "      <td>16.95</td>\n",
       "      <td>31</td>\n",
       "      <td>31</td>\n",
       "      <td>M</td>\n",
       "      <td>3</td>\n",
       "      <td>69850</td>\n",
       "      <td>16.39</td>\n",
       "      <td>21</td>\n",
       "      <td>21</td>\n",
       "      <td>SUV</td>\n",
       "      <td>6</td>\n",
       "    </tr>\n",
       "  </tbody>\n",
       "</table>\n",
       "</div>"
      ],
      "text/plain": [
       "   Unnamed: 0         vehicle  msrp2012  accelrate2012  mpg2012  mpgmpge2012   \n",
       "0           0  ActiveHybrid 3  19006.62           9.35       50           50  \\\n",
       "1           1  ActiveHybrid 5  32095.61           8.82       50           95   \n",
       "2           2          Ampera  31739.55          11.11       37           98   \n",
       "3           3        Camry LE  62180.23          16.67       26           26   \n",
       "4           4  Chevrolet Volt  59126.14          16.95       31           31   \n",
       "\n",
       "  carclass2012  carclass_id2012  msrp2013  accelrate2013  mpg2013   \n",
       "0            C                1     19080           8.70       50  \\\n",
       "1            M                3     24995          12.66       45   \n",
       "2            C                1     24200          10.20       50   \n",
       "3            M                3     18600          11.76       42   \n",
       "4            M                3     69850          16.39       21   \n",
       "\n",
       "   mpgmpge2013 carclass2013  carclass_id2013  \n",
       "0           50            C                1  \n",
       "1           45            C                1  \n",
       "2           50            M                3  \n",
       "3           42            C                1  \n",
       "4           21          SUV                6  "
      ]
     },
     "execution_count": 6,
     "metadata": {},
     "output_type": "execute_result"
    }
   ],
   "source": [
    "hy.head()"
   ]
  },
  {
   "cell_type": "code",
   "execution_count": 7,
   "id": "3cf4c6d4",
   "metadata": {},
   "outputs": [
    {
     "data": {
      "text/plain": [
       "<AxesSubplot: >"
      ]
     },
     "execution_count": 7,
     "metadata": {},
     "output_type": "execute_result"
    },
    {
     "data": {
      "image/png": "[encoded data removed]",
      "text/plain": [
       "<Figure size 640x480 with 1 Axes>"
      ]
     },
     "metadata": {},
     "output_type": "display_data"
    }
   ],
   "source": [
    "# Test Normality\n",
    "hy['msrp2012'].hist()"
   ]
  },
  {
   "cell_type": "code",
   "execution_count": 8,
   "id": "baf3aad0",
   "metadata": {},
   "outputs": [
    {
     "data": {
      "text/plain": [
       "<AxesSubplot: >"
      ]
     },
     "execution_count": 8,
     "metadata": {},
     "output_type": "execute_result"
    },
    {
     "data": {
      "image/png": "[encoded data removed]",
      "text/plain": [
       "<Figure size 640x480 with 1 Axes>"
      ]
     },
     "metadata": {},
     "output_type": "display_data"
    }
   ],
   "source": [
    "hy['msrp2013'].hist()"
   ]
  },
  {
   "cell_type": "code",
   "execution_count": 9,
   "id": "43972c40",
   "metadata": {},
   "outputs": [
    {
     "data": {
      "text/plain": [
       "TtestResult(statistic=0.2374965077759743, pvalue=0.8162780348473798, df=12)"
      ]
     },
     "execution_count": 9,
     "metadata": {},
     "output_type": "execute_result"
    }
   ],
   "source": [
    "# run the analysis\n",
    "stats.ttest_rel(hy['msrp2012'],hy['msrp2013']) "
   ]
  },
  {
   "cell_type": "code",
   "execution_count": 12,
   "id": "dc29fee5",
   "metadata": {},
   "outputs": [
    {
     "data": {
      "text/plain": [
       "45367.45615384616"
      ]
     },
     "execution_count": 12,
     "metadata": {},
     "output_type": "execute_result"
    }
   ],
   "source": [
    "hy['msrp2012'].mean()"
   ]
  },
  {
   "cell_type": "code",
   "execution_count": 13,
   "id": "46c672ab",
   "metadata": {},
   "outputs": [
    {
     "data": {
      "text/plain": [
       "43557.692307692305"
      ]
     },
     "execution_count": 13,
     "metadata": {},
     "output_type": "execute_result"
    }
   ],
   "source": [
    "hy['msrp2013'].mean()"
   ]
  },
  {
   "cell_type": "markdown",
   "id": "21107b79",
   "metadata": {},
   "source": [
    "# Dependent t-Test Lesson1 Turn-in\n",
    "### Compute a dependent t-test to see if the miles per gallon change between 2012 and 2013"
   ]
  },
  {
   "cell_type": "code",
   "execution_count": 14,
   "id": "bef75964",
   "metadata": {},
   "outputs": [
    {
     "data": {
      "text/html": [
       "<div>\n",
       "<style scoped>\n",
       "    .dataframe tbody tr th:only-of-type {\n",
       "        vertical-align: middle;\n",
       "    }\n",
       "\n",
       "    .dataframe tbody tr th {\n",
       "        vertical-align: top;\n",
       "    }\n",
       "\n",
       "    .dataframe thead th {\n",
       "        text-align: right;\n",
       "    }\n",
       "</style>\n",
       "<table border=\"1\" class=\"dataframe\">\n",
       "  <thead>\n",
       "    <tr style=\"text-align: right;\">\n",
       "      <th></th>\n",
       "      <th>Unnamed: 0</th>\n",
       "      <th>vehicle</th>\n",
       "      <th>msrp2012</th>\n",
       "      <th>accelrate2012</th>\n",
       "      <th>mpg2012</th>\n",
       "      <th>mpgmpge2012</th>\n",
       "      <th>carclass2012</th>\n",
       "      <th>carclass_id2012</th>\n",
       "      <th>msrp2013</th>\n",
       "      <th>accelrate2013</th>\n",
       "      <th>mpg2013</th>\n",
       "      <th>mpgmpge2013</th>\n",
       "      <th>carclass2013</th>\n",
       "      <th>carclass_id2013</th>\n",
       "    </tr>\n",
       "  </thead>\n",
       "  <tbody>\n",
       "    <tr>\n",
       "      <th>0</th>\n",
       "      <td>0</td>\n",
       "      <td>ActiveHybrid 3</td>\n",
       "      <td>19006.62</td>\n",
       "      <td>9.35</td>\n",
       "      <td>50</td>\n",
       "      <td>50</td>\n",
       "      <td>C</td>\n",
       "      <td>1</td>\n",
       "      <td>19080</td>\n",
       "      <td>8.70</td>\n",
       "      <td>50</td>\n",
       "      <td>50</td>\n",
       "      <td>C</td>\n",
       "      <td>1</td>\n",
       "    </tr>\n",
       "    <tr>\n",
       "      <th>1</th>\n",
       "      <td>1</td>\n",
       "      <td>ActiveHybrid 5</td>\n",
       "      <td>32095.61</td>\n",
       "      <td>8.82</td>\n",
       "      <td>50</td>\n",
       "      <td>95</td>\n",
       "      <td>M</td>\n",
       "      <td>3</td>\n",
       "      <td>24995</td>\n",
       "      <td>12.66</td>\n",
       "      <td>45</td>\n",
       "      <td>45</td>\n",
       "      <td>C</td>\n",
       "      <td>1</td>\n",
       "    </tr>\n",
       "    <tr>\n",
       "      <th>2</th>\n",
       "      <td>2</td>\n",
       "      <td>Ampera</td>\n",
       "      <td>31739.55</td>\n",
       "      <td>11.11</td>\n",
       "      <td>37</td>\n",
       "      <td>98</td>\n",
       "      <td>C</td>\n",
       "      <td>1</td>\n",
       "      <td>24200</td>\n",
       "      <td>10.20</td>\n",
       "      <td>50</td>\n",
       "      <td>50</td>\n",
       "      <td>M</td>\n",
       "      <td>3</td>\n",
       "    </tr>\n",
       "    <tr>\n",
       "      <th>3</th>\n",
       "      <td>3</td>\n",
       "      <td>Camry LE</td>\n",
       "      <td>62180.23</td>\n",
       "      <td>16.67</td>\n",
       "      <td>26</td>\n",
       "      <td>26</td>\n",
       "      <td>M</td>\n",
       "      <td>3</td>\n",
       "      <td>18600</td>\n",
       "      <td>11.76</td>\n",
       "      <td>42</td>\n",
       "      <td>42</td>\n",
       "      <td>C</td>\n",
       "      <td>1</td>\n",
       "    </tr>\n",
       "    <tr>\n",
       "      <th>4</th>\n",
       "      <td>4</td>\n",
       "      <td>Chevrolet Volt</td>\n",
       "      <td>59126.14</td>\n",
       "      <td>16.95</td>\n",
       "      <td>31</td>\n",
       "      <td>31</td>\n",
       "      <td>M</td>\n",
       "      <td>3</td>\n",
       "      <td>69850</td>\n",
       "      <td>16.39</td>\n",
       "      <td>21</td>\n",
       "      <td>21</td>\n",
       "      <td>SUV</td>\n",
       "      <td>6</td>\n",
       "    </tr>\n",
       "  </tbody>\n",
       "</table>\n",
       "</div>"
      ],
      "text/plain": [
       "   Unnamed: 0         vehicle  msrp2012  accelrate2012  mpg2012  mpgmpge2012   \n",
       "0           0  ActiveHybrid 3  19006.62           9.35       50           50  \\\n",
       "1           1  ActiveHybrid 5  32095.61           8.82       50           95   \n",
       "2           2          Ampera  31739.55          11.11       37           98   \n",
       "3           3        Camry LE  62180.23          16.67       26           26   \n",
       "4           4  Chevrolet Volt  59126.14          16.95       31           31   \n",
       "\n",
       "  carclass2012  carclass_id2012  msrp2013  accelrate2013  mpg2013   \n",
       "0            C                1     19080           8.70       50  \\\n",
       "1            M                3     24995          12.66       45   \n",
       "2            C                1     24200          10.20       50   \n",
       "3            M                3     18600          11.76       42   \n",
       "4            M                3     69850          16.39       21   \n",
       "\n",
       "   mpgmpge2013 carclass2013  carclass_id2013  \n",
       "0           50            C                1  \n",
       "1           45            C                1  \n",
       "2           50            M                3  \n",
       "3           42            C                1  \n",
       "4           21          SUV                6  "
      ]
     },
     "execution_count": 14,
     "metadata": {},
     "output_type": "execute_result"
    }
   ],
   "source": [
    "hy.head()"
   ]
  },
  {
   "cell_type": "code",
   "execution_count": 19,
   "id": "e676f969",
   "metadata": {},
   "outputs": [
    {
     "data": {
      "text/plain": [
       "34.0"
      ]
     },
     "execution_count": 19,
     "metadata": {},
     "output_type": "execute_result"
    }
   ],
   "source": [
    "# Calculate means\n",
    "hy['mpg2012'].mean()"
   ]
  },
  {
   "cell_type": "code",
   "execution_count": 18,
   "id": "91c1a53e",
   "metadata": {},
   "outputs": [
    {
     "data": {
      "text/plain": [
       "33.46153846153846"
      ]
     },
     "execution_count": 18,
     "metadata": {},
     "output_type": "execute_result"
    }
   ],
   "source": [
    "hy['mpg2013'].mean()"
   ]
  },
  {
   "cell_type": "markdown",
   "id": "71d0d1c3",
   "metadata": {},
   "source": [
    "# Check for Normality\n",
    "\n",
    "The data are not normally distributed"
   ]
  },
  {
   "cell_type": "code",
   "execution_count": 21,
   "id": "80c1774d",
   "metadata": {},
   "outputs": [
    {
     "data": {
      "text/plain": [
       "<AxesSubplot: >"
      ]
     },
     "execution_count": 21,
     "metadata": {},
     "output_type": "execute_result"
    },
    {
     "data": {
      "image/png": "[encoded data removed]",
      "text/plain": [
       "<Figure size 640x480 with 1 Axes>"
      ]
     },
     "metadata": {},
     "output_type": "display_data"
    }
   ],
   "source": [
    "hy['mpg2012'].hist()"
   ]
  },
  {
   "cell_type": "code",
   "execution_count": 22,
   "id": "8be6c796",
   "metadata": {},
   "outputs": [
    {
     "data": {
      "text/plain": [
       "<AxesSubplot: >"
      ]
     },
     "execution_count": 22,
     "metadata": {},
     "output_type": "execute_result"
    },
    {
     "data": {
      "image/png": "[encoded data removed]",
      "text/plain": [
       "<Figure size 640x480 with 1 Axes>"
      ]
     },
     "metadata": {},
     "output_type": "display_data"
    }
   ],
   "source": [
    "hy['mpg2013'].hist()"
   ]
  },
  {
   "cell_type": "markdown",
   "id": "ec135045",
   "metadata": {},
   "source": [
    "# Run the analysis\n"
   ]
  },
  {
   "cell_type": "code",
   "execution_count": 24,
   "id": "9777daf7",
   "metadata": {},
   "outputs": [
    {
     "data": {
      "text/plain": [
       "TtestResult(statistic=0.14466598084438315, pvalue=0.8873759030512349, df=12)"
      ]
     },
     "execution_count": 24,
     "metadata": {},
     "output_type": "execute_result"
    }
   ],
   "source": [
    "stats.ttest_rel(hy['mpg2012'],hy['mpg2013'])"
   ]
  },
  {
   "cell_type": "markdown",
   "id": "cb523c75",
   "metadata": {},
   "source": [
    "## The p value is great than .05, also the means are fairly close. Although there is a difference the difference is not significant."
   ]
  },
  {
   "cell_type": "code",
   "execution_count": null,
   "id": "a62d21ca",
   "metadata": {},
   "outputs": [],
   "source": []
  }
 ],
 "metadata": {
  "kernelspec": {
   "display_name": "Python 3 (ipykernel)",
   "language": "python",
   "name": "python3"
  },
  "language_info": {
   "codemirror_mode": {
    "name": "ipython",
    "version": 3
   },
   "file_extension": ".py",
   "mimetype": "text/x-python",
   "name": "python",
   "nbconvert_exporter": "python",
   "pygments_lexer": "ipython3",
   "version": "3.11.2"
  }
 },
 "nbformat": 4,
 "nbformat_minor": 5
}
