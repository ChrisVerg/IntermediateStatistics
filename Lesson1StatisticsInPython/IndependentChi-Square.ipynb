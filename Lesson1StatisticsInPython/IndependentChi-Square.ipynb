{
 "cells": [
  {
   "cell_type": "markdown",
   "id": "4c9a73c3",
   "metadata": {},
   "source": [
    "# An independent Chi-Square is used when you want to determine whether two categorical variables influence each other.\n",
    "\n"
   ]
  },
  {
   "cell_type": "markdown",
   "id": "1aa993d5",
   "metadata": {},
   "source": [
    "## Import data and packages"
   ]
  },
  {
   "cell_type": "code",
   "execution_count": 2,
   "id": "7b9ab7aa",
   "metadata": {},
   "outputs": [],
   "source": [
    "import pandas as pd\n",
    "from scipy import stats"
   ]
  },
  {
   "cell_type": "code",
   "execution_count": 3,
   "id": "b6423b08",
   "metadata": {},
   "outputs": [],
   "source": [
    "# Using lead-lipstick.csv \n",
    "# prodType has 2 levels: LP for lipstick and Lg for lip gloss. \n",
    "# priceCatgry has 3 levels: \n",
    "# 1: < 5 euros\n",
    "# 2: 5-15 euros\n",
    "# 3: > 15 euros\n",
    "\n",
    "lip = pd.read_csv('C:/Users/chris/Desktop/data\\DS105/Lesson1/lead_lipstick.csv')"
   ]
  },
  {
   "cell_type": "markdown",
   "id": "87658df8",
   "metadata": {},
   "source": [
    "## You will test to see if the price of the product depends on whether it is a lip stick or a lip gloss."
   ]
  },
  {
   "cell_type": "code",
   "execution_count": 4,
   "id": "6cbf9650",
   "metadata": {},
   "outputs": [
    {
     "data": {
      "text/html": [
       "<div>\n",
       "<style scoped>\n",
       "    .dataframe tbody tr th:only-of-type {\n",
       "        vertical-align: middle;\n",
       "    }\n",
       "\n",
       "    .dataframe tbody tr th {\n",
       "        vertical-align: top;\n",
       "    }\n",
       "\n",
       "    .dataframe thead th {\n",
       "        text-align: right;\n",
       "    }\n",
       "</style>\n",
       "<table border=\"1\" class=\"dataframe\">\n",
       "  <thead>\n",
       "    <tr style=\"text-align: right;\">\n",
       "      <th></th>\n",
       "      <th>JRC_code</th>\n",
       "      <th>purchCntry</th>\n",
       "      <th>prodCntry</th>\n",
       "      <th>Pb</th>\n",
       "      <th>sdPb</th>\n",
       "      <th>shade</th>\n",
       "      <th>prodType</th>\n",
       "      <th>priceCatgry</th>\n",
       "    </tr>\n",
       "  </thead>\n",
       "  <tbody>\n",
       "    <tr>\n",
       "      <th>0</th>\n",
       "      <td>C135</td>\n",
       "      <td>NL</td>\n",
       "      <td>NL</td>\n",
       "      <td>3.75</td>\n",
       "      <td>0.24</td>\n",
       "      <td>Red</td>\n",
       "      <td>LP</td>\n",
       "      <td>2</td>\n",
       "    </tr>\n",
       "    <tr>\n",
       "      <th>1</th>\n",
       "      <td>C18</td>\n",
       "      <td>FI</td>\n",
       "      <td>FI</td>\n",
       "      <td>2.29</td>\n",
       "      <td>0.07</td>\n",
       "      <td>Red</td>\n",
       "      <td>LP</td>\n",
       "      <td>2</td>\n",
       "    </tr>\n",
       "    <tr>\n",
       "      <th>2</th>\n",
       "      <td>C20</td>\n",
       "      <td>FI</td>\n",
       "      <td>IT</td>\n",
       "      <td>1.27</td>\n",
       "      <td>0.06</td>\n",
       "      <td>Red</td>\n",
       "      <td>LP</td>\n",
       "      <td>2</td>\n",
       "    </tr>\n",
       "    <tr>\n",
       "      <th>3</th>\n",
       "      <td>C164</td>\n",
       "      <td>DE</td>\n",
       "      <td>FR</td>\n",
       "      <td>1.21</td>\n",
       "      <td>0.06</td>\n",
       "      <td>Red</td>\n",
       "      <td>LP</td>\n",
       "      <td>2</td>\n",
       "    </tr>\n",
       "    <tr>\n",
       "      <th>4</th>\n",
       "      <td>C71</td>\n",
       "      <td>MT</td>\n",
       "      <td>UK</td>\n",
       "      <td>0.85</td>\n",
       "      <td>0.04</td>\n",
       "      <td>Red</td>\n",
       "      <td>LP</td>\n",
       "      <td>2</td>\n",
       "    </tr>\n",
       "  </tbody>\n",
       "</table>\n",
       "</div>"
      ],
      "text/plain": [
       "  JRC_code purchCntry prodCntry    Pb  sdPb shade prodType  priceCatgry\n",
       "0     C135         NL        NL  3.75  0.24   Red       LP            2\n",
       "1      C18         FI        FI  2.29  0.07   Red       LP            2\n",
       "2      C20         FI        IT  1.27  0.06   Red       LP            2\n",
       "3     C164         DE        FR  1.21  0.06   Red       LP            2\n",
       "4      C71         MT        UK  0.85  0.04   Red       LP            2"
      ]
     },
     "execution_count": 4,
     "metadata": {},
     "output_type": "execute_result"
    }
   ],
   "source": [
    "lip.head()"
   ]
  },
  {
   "cell_type": "markdown",
   "id": "240637bd",
   "metadata": {},
   "source": [
    "There is only one assumption for Chi-Square, and it is that when you are looking at the contingency tables, the expected frequencies for each cell need to have at least 5 entries per cell. In Python, the only way to easily generate an expected frequencies table is actually to run the analysis. So, you will conduct your independent Chi-Square first, and then make sure it meets this assumption!\n",
    "\n",
    "A contingency table is also called a crosstab"
   ]
  },
  {
   "cell_type": "code",
   "execution_count": 5,
   "id": "3935e5cd",
   "metadata": {},
   "outputs": [
    {
     "data": {
      "text/html": [
       "<div>\n",
       "<style scoped>\n",
       "    .dataframe tbody tr th:only-of-type {\n",
       "        vertical-align: middle;\n",
       "    }\n",
       "\n",
       "    .dataframe tbody tr th {\n",
       "        vertical-align: top;\n",
       "    }\n",
       "\n",
       "    .dataframe thead th {\n",
       "        text-align: right;\n",
       "    }\n",
       "</style>\n",
       "<table border=\"1\" class=\"dataframe\">\n",
       "  <thead>\n",
       "    <tr style=\"text-align: right;\">\n",
       "      <th>priceCatgry</th>\n",
       "      <th>1</th>\n",
       "      <th>2</th>\n",
       "      <th>3</th>\n",
       "    </tr>\n",
       "    <tr>\n",
       "      <th>prodType</th>\n",
       "      <th></th>\n",
       "      <th></th>\n",
       "      <th></th>\n",
       "    </tr>\n",
       "  </thead>\n",
       "  <tbody>\n",
       "    <tr>\n",
       "      <th>LG</th>\n",
       "      <td>19</td>\n",
       "      <td>43</td>\n",
       "      <td>12</td>\n",
       "    </tr>\n",
       "    <tr>\n",
       "      <th>LP</th>\n",
       "      <td>34</td>\n",
       "      <td>92</td>\n",
       "      <td>23</td>\n",
       "    </tr>\n",
       "  </tbody>\n",
       "</table>\n",
       "</div>"
      ],
      "text/plain": [
       "priceCatgry   1   2   3\n",
       "prodType               \n",
       "LG           19  43  12\n",
       "LP           34  92  23"
      ]
     },
     "execution_count": 5,
     "metadata": {},
     "output_type": "execute_result"
    }
   ],
   "source": [
    "# Create the crosstab\n",
    "lip_crosstab = pd.crosstab(lip['prodType'], lip['priceCatgry'])\n",
    "lip_crosstab"
   ]
  },
  {
   "cell_type": "markdown",
   "id": "4956a08f",
   "metadata": {},
   "source": [
    "# Running the Independent Chi-Square"
   ]
  },
  {
   "cell_type": "code",
   "execution_count": 6,
   "id": "6224a908",
   "metadata": {},
   "outputs": [
    {
     "data": {
      "text/plain": [
       "Chi2ContingencyResult(statistic=0.2969891724608704, pvalue=0.8620046738525345, dof=2, expected_freq=array([[17.58744395, 44.79820628, 11.61434978],\n",
       "       [35.41255605, 90.20179372, 23.38565022]]))"
      ]
     },
     "execution_count": 6,
     "metadata": {},
     "output_type": "execute_result"
    }
   ],
   "source": [
    "# Run the contingency funtion on the contingency/crosstab table\n",
    "stats.chi2_contingency(lip_crosstab)"
   ]
  },
  {
   "cell_type": "markdown",
   "id": "cb0df815",
   "metadata": {},
   "source": [
    "### Based on the Chi Statistic and the p value greater than .05 it does not appear there is significant relationship between the price and product type. "
   ]
  },
  {
   "cell_type": "markdown",
   "id": "90d0bf5c",
   "metadata": {},
   "source": [
    "# Lesson 1 Turn in for Chi-Square"
   ]
  },
  {
   "cell_type": "markdown",
   "id": "e94d24bb",
   "metadata": {},
   "source": [
    "Compute an independent Chi-Square to see if the shade of lipstick and the price category are related.\n"
   ]
  },
  {
   "cell_type": "code",
   "execution_count": 7,
   "id": "c45e5562",
   "metadata": {},
   "outputs": [],
   "source": [
    "color_crosstab = pd.crosstab(lip['shade'], lip['priceCatgry'])"
   ]
  },
  {
   "cell_type": "code",
   "execution_count": 8,
   "id": "e775a881",
   "metadata": {},
   "outputs": [
    {
     "data": {
      "text/html": [
       "<div>\n",
       "<style scoped>\n",
       "    .dataframe tbody tr th:only-of-type {\n",
       "        vertical-align: middle;\n",
       "    }\n",
       "\n",
       "    .dataframe tbody tr th {\n",
       "        vertical-align: top;\n",
       "    }\n",
       "\n",
       "    .dataframe thead th {\n",
       "        text-align: right;\n",
       "    }\n",
       "</style>\n",
       "<table border=\"1\" class=\"dataframe\">\n",
       "  <thead>\n",
       "    <tr style=\"text-align: right;\">\n",
       "      <th>priceCatgry</th>\n",
       "      <th>1</th>\n",
       "      <th>2</th>\n",
       "      <th>3</th>\n",
       "    </tr>\n",
       "    <tr>\n",
       "      <th>shade</th>\n",
       "      <th></th>\n",
       "      <th></th>\n",
       "      <th></th>\n",
       "    </tr>\n",
       "  </thead>\n",
       "  <tbody>\n",
       "    <tr>\n",
       "      <th>Brown</th>\n",
       "      <td>20</td>\n",
       "      <td>30</td>\n",
       "      <td>10</td>\n",
       "    </tr>\n",
       "    <tr>\n",
       "      <th>Pink</th>\n",
       "      <td>20</td>\n",
       "      <td>49</td>\n",
       "      <td>12</td>\n",
       "    </tr>\n",
       "    <tr>\n",
       "      <th>Purple</th>\n",
       "      <td>8</td>\n",
       "      <td>23</td>\n",
       "      <td>6</td>\n",
       "    </tr>\n",
       "    <tr>\n",
       "      <th>Red</th>\n",
       "      <td>5</td>\n",
       "      <td>33</td>\n",
       "      <td>7</td>\n",
       "    </tr>\n",
       "  </tbody>\n",
       "</table>\n",
       "</div>"
      ],
      "text/plain": [
       "priceCatgry   1   2   3\n",
       "shade                  \n",
       "Brown        20  30  10\n",
       "Pink         20  49  12\n",
       "Purple        8  23   6\n",
       "Red           5  33   7"
      ]
     },
     "execution_count": 8,
     "metadata": {},
     "output_type": "execute_result"
    }
   ],
   "source": [
    "# Test assumption of 5 entries per cell in contingency table.\n",
    "color_crosstab"
   ]
  },
  {
   "cell_type": "code",
   "execution_count": 9,
   "id": "06198297",
   "metadata": {},
   "outputs": [
    {
     "data": {
      "text/plain": [
       "Chi2ContingencyResult(statistic=7.860569553614045, pvalue=0.2484973879479863, dof=6, expected_freq=array([[14.26008969, 36.32286996,  9.41704036],\n",
       "       [19.25112108, 49.03587444, 12.71300448],\n",
       "       [ 8.79372197, 22.39910314,  5.80717489],\n",
       "       [10.69506726, 27.24215247,  7.06278027]]))"
      ]
     },
     "execution_count": 9,
     "metadata": {},
     "output_type": "execute_result"
    }
   ],
   "source": [
    "# Compute Independent Chi-Square\n",
    "stats.chi2_contingency(color_crosstab)"
   ]
  },
  {
   "cell_type": "markdown",
   "id": "f55b3e9d",
   "metadata": {},
   "source": [
    "### It appears there is not a significant relationship between shade and price"
   ]
  },
  {
   "cell_type": "code",
   "execution_count": null,
   "id": "54602bf1",
   "metadata": {},
   "outputs": [],
   "source": []
  }
 ],
 "metadata": {
  "kernelspec": {
   "display_name": "Python 3 (ipykernel)",
   "language": "python",
   "name": "python3"
  },
  "language_info": {
   "codemirror_mode": {
    "name": "ipython",
    "version": 3
   },
   "file_extension": ".py",
   "mimetype": "text/x-python",
   "name": "python",
   "nbconvert_exporter": "python",
   "pygments_lexer": "ipython3",
   "version": "3.11.2"
  }
 },
 "nbformat": 4,
 "nbformat_minor": 5
}
