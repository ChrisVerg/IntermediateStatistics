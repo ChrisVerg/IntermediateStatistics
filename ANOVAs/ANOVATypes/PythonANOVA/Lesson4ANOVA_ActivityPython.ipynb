{
 "cells": [
  {
   "cell_type": "markdown",
   "id": "c4e9e44d",
   "metadata": {},
   "source": [
    "# Import Packages and Data"
   ]
  },
  {
   "cell_type": "code",
   "execution_count": 30,
   "id": "50fc3b1e",
   "metadata": {},
   "outputs": [],
   "source": [
    "import pandas as pd\n",
    "import numpy as np\n",
    "import scipy\n",
    "import seaborn as sns\n",
    "from scipy import stats\n",
    "from statsmodels.stats.multicomp import pairwise_tukeyhsd\n",
    "from statsmodels.stats.multicomp import MultiComparison"
   ]
  },
  {
   "cell_type": "code",
   "execution_count": 2,
   "id": "c1180461",
   "metadata": {},
   "outputs": [],
   "source": [
    "Youtube_data = pd.read_csv('C:/Users/chris/Desktop/data/DS105/Lesson4/YouTubeChannels_Python.csv')"
   ]
  },
  {
   "cell_type": "markdown",
   "id": "b2018af7",
   "metadata": {},
   "source": [
    "# Wrangling and Exploration"
   ]
  },
  {
   "cell_type": "code",
   "execution_count": 4,
   "id": "13889532",
   "metadata": {},
   "outputs": [
    {
     "data": {
      "text/html": [
       "<div>\n",
       "<style scoped>\n",
       "    .dataframe tbody tr th:only-of-type {\n",
       "        vertical-align: middle;\n",
       "    }\n",
       "\n",
       "    .dataframe tbody tr th {\n",
       "        vertical-align: top;\n",
       "    }\n",
       "\n",
       "    .dataframe thead th {\n",
       "        text-align: right;\n",
       "    }\n",
       "</style>\n",
       "<table border=\"1\" class=\"dataframe\">\n",
       "  <thead>\n",
       "    <tr style=\"text-align: right;\">\n",
       "      <th></th>\n",
       "      <th>Rank</th>\n",
       "      <th>Gr2de</th>\n",
       "      <th>Channel name</th>\n",
       "      <th>Video Uploads</th>\n",
       "      <th>Subscribers</th>\n",
       "      <th>Video views</th>\n",
       "    </tr>\n",
       "  </thead>\n",
       "  <tbody>\n",
       "    <tr>\n",
       "      <th>0</th>\n",
       "      <td>1st</td>\n",
       "      <td>0</td>\n",
       "      <td>Zee TV</td>\n",
       "      <td>82757</td>\n",
       "      <td>18752951</td>\n",
       "      <td>20869786591</td>\n",
       "    </tr>\n",
       "    <tr>\n",
       "      <th>1</th>\n",
       "      <td>2nd</td>\n",
       "      <td>0</td>\n",
       "      <td>T-Series</td>\n",
       "      <td>12661</td>\n",
       "      <td>61196302</td>\n",
       "      <td>47548839843</td>\n",
       "    </tr>\n",
       "    <tr>\n",
       "      <th>2</th>\n",
       "      <td>3rd</td>\n",
       "      <td>0</td>\n",
       "      <td>Cocomelon - Nursery Rhymes</td>\n",
       "      <td>373</td>\n",
       "      <td>19238251</td>\n",
       "      <td>9793305082</td>\n",
       "    </tr>\n",
       "    <tr>\n",
       "      <th>3</th>\n",
       "      <td>4th</td>\n",
       "      <td>0</td>\n",
       "      <td>SET India</td>\n",
       "      <td>27323</td>\n",
       "      <td>31180559</td>\n",
       "      <td>22675948293</td>\n",
       "    </tr>\n",
       "    <tr>\n",
       "      <th>4</th>\n",
       "      <td>5th</td>\n",
       "      <td>0</td>\n",
       "      <td>WWE</td>\n",
       "      <td>36756</td>\n",
       "      <td>32852346</td>\n",
       "      <td>26273668433</td>\n",
       "    </tr>\n",
       "  </tbody>\n",
       "</table>\n",
       "</div>"
      ],
      "text/plain": [
       "  Rank  Gr2de                Channel name Video Uploads Subscribers   \n",
       "0  1st      0                      Zee TV         82757    18752951  \\\n",
       "1  2nd      0                    T-Series         12661    61196302   \n",
       "2  3rd      0  Cocomelon - Nursery Rhymes           373    19238251   \n",
       "3  4th      0                   SET India         27323    31180559   \n",
       "4  5th      0                         WWE         36756    32852346   \n",
       "\n",
       "   Video views  \n",
       "0  20869786591  \n",
       "1  47548839843  \n",
       "2   9793305082  \n",
       "3  22675948293  \n",
       "4  26273668433  "
      ]
     },
     "execution_count": 4,
     "metadata": {},
     "output_type": "execute_result"
    }
   ],
   "source": [
    "Youtube_data.head()"
   ]
  },
  {
   "cell_type": "code",
   "execution_count": 5,
   "id": "549d3962",
   "metadata": {},
   "outputs": [
    {
     "name": "stdout",
     "output_type": "stream",
     "text": [
      "<class 'pandas.core.frame.DataFrame'>\n",
      "RangeIndex: 5000 entries, 0 to 4999\n",
      "Data columns (total 6 columns):\n",
      " #   Column         Non-Null Count  Dtype \n",
      "---  ------         --------------  ----- \n",
      " 0   Rank           5000 non-null   object\n",
      " 1   Gr2de          5000 non-null   int64 \n",
      " 2   Channel name   5000 non-null   object\n",
      " 3   Video Uploads  5000 non-null   object\n",
      " 4   Subscribers    5000 non-null   object\n",
      " 5   Video views    5000 non-null   int64 \n",
      "dtypes: int64(2), object(4)\n",
      "memory usage: 234.5+ KB\n"
     ]
    }
   ],
   "source": [
    "Youtube_data.info()"
   ]
  },
  {
   "cell_type": "code",
   "execution_count": 7,
   "id": "df381bca",
   "metadata": {},
   "outputs": [
    {
     "data": {
      "text/plain": [
       "Gr2de\n",
       "3    2956\n",
       "2    1993\n",
       "1      41\n",
       "0      10\n",
       "Name: count, dtype: int64"
      ]
     },
     "execution_count": 7,
     "metadata": {},
     "output_type": "execute_result"
    }
   ],
   "source": [
    "Youtube_data.Gr2de.value_counts()"
   ]
  },
  {
   "cell_type": "code",
   "execution_count": 9,
   "id": "a67a5e9e",
   "metadata": {},
   "outputs": [
    {
     "name": "stdout",
     "output_type": "stream",
     "text": [
      "<class 'pandas.core.series.Series'>\n",
      "RangeIndex: 5000 entries, 0 to 4999\n",
      "Series name: Video views\n",
      "Non-Null Count  Dtype\n",
      "--------------  -----\n",
      "5000 non-null   int64\n",
      "dtypes: int64(1)\n",
      "memory usage: 39.2 KB\n"
     ]
    }
   ],
   "source": [
    "Youtube_data['Video views'].info()"
   ]
  },
  {
   "cell_type": "code",
   "execution_count": 10,
   "id": "f8ddd6ff",
   "metadata": {},
   "outputs": [],
   "source": [
    "# Create Working dataset\n",
    "# Recode Gr2de to grade and Video views to views\n",
    "yt = Youtube_data\n"
   ]
  },
  {
   "cell_type": "code",
   "execution_count": 11,
   "id": "744a83e7",
   "metadata": {},
   "outputs": [],
   "source": [
    "yt['views'] = yt['Video views']"
   ]
  },
  {
   "cell_type": "code",
   "execution_count": 12,
   "id": "c99afc36",
   "metadata": {},
   "outputs": [],
   "source": [
    "yt['grade'] = yt['Gr2de']"
   ]
  },
  {
   "cell_type": "code",
   "execution_count": 13,
   "id": "f4d4ff27",
   "metadata": {},
   "outputs": [],
   "source": [
    "yt1 = yt[['grade', 'views']]"
   ]
  },
  {
   "cell_type": "code",
   "execution_count": 15,
   "id": "da8dda62",
   "metadata": {},
   "outputs": [
    {
     "name": "stdout",
     "output_type": "stream",
     "text": [
      "<class 'pandas.core.frame.DataFrame'>\n",
      "RangeIndex: 5000 entries, 0 to 4999\n",
      "Data columns (total 2 columns):\n",
      " #   Column  Non-Null Count  Dtype\n",
      "---  ------  --------------  -----\n",
      " 0   grade   5000 non-null   int64\n",
      " 1   views   5000 non-null   int64\n",
      "dtypes: int64(2)\n",
      "memory usage: 78.3 KB\n"
     ]
    }
   ],
   "source": [
    "yt1.info()"
   ]
  },
  {
   "cell_type": "markdown",
   "id": "ab156212",
   "metadata": {},
   "source": [
    "# Test Assumptions"
   ]
  },
  {
   "cell_type": "code",
   "execution_count": 17,
   "id": "1bbfe15f",
   "metadata": {},
   "outputs": [
    {
     "name": "stderr",
     "output_type": "stream",
     "text": [
      "C:\\Users\\chris\\AppData\\Local\\Temp\\ipykernel_16744\\2760793986.py:4: UserWarning: \n",
      "\n",
      "`distplot` is a deprecated function and will be removed in seaborn v0.14.0.\n",
      "\n",
      "Please adapt your code to use either `displot` (a figure-level function with\n",
      "similar flexibility) or `histplot` (an axes-level function for histograms).\n",
      "\n",
      "For a guide to updating your code to use the new functions, please see\n",
      "https://gist.github.com/mwaskom/de44147ed2974457ad6372750bbe5751\n",
      "\n",
      "  sns.distplot(yt1.views)\n"
     ]
    },
    {
     "data": {
      "text/plain": [
       "<AxesSubplot: xlabel='views', ylabel='Density'>"
      ]
     },
     "execution_count": 17,
     "metadata": {},
     "output_type": "execute_result"
    },
    {
     "data": {
      "image/png": "[encoded data removed]",
      "text/plain": [
       "<Figure size 640x480 with 1 Axes>"
      ]
     },
     "metadata": {},
     "output_type": "display_data"
    }
   ],
   "source": [
    "# n > 20 Sample size assumption met\n",
    "\n",
    "# Assess Normality\n",
    "sns.distplot(yt1.views)"
   ]
  },
  {
   "cell_type": "code",
   "execution_count": 18,
   "id": "b54e876e",
   "metadata": {},
   "outputs": [
    {
     "name": "stderr",
     "output_type": "stream",
     "text": [
      "C:\\Users\\chris\\AppData\\Local\\Temp\\ipykernel_16744\\2534658378.py:4: SettingWithCopyWarning: \n",
      "A value is trying to be set on a copy of a slice from a DataFrame.\n",
      "Try using .loc[row_indexer,col_indexer] = value instead\n",
      "\n",
      "See the caveats in the documentation: https://pandas.pydata.org/pandas-docs/stable/user_guide/indexing.html#returning-a-view-versus-a-copy\n",
      "  yt1['viewsSQRT'] = np.sqrt(yt1.views)\n"
     ]
    }
   ],
   "source": [
    "# Very positive Skew\n",
    "\n",
    "# Square Root Transformation\n",
    "yt1['viewsSQRT'] = np.sqrt(yt1.views)"
   ]
  },
  {
   "cell_type": "code",
   "execution_count": 19,
   "id": "553b9688",
   "metadata": {},
   "outputs": [
    {
     "data": {
      "text/plain": [
       "<seaborn.axisgrid.FacetGrid at 0x1d26e2975d0>"
      ]
     },
     "execution_count": 19,
     "metadata": {},
     "output_type": "execute_result"
    },
    {
     "data": {
      "image/png": "[encoded data removed]",
      "text/plain": [
       "<Figure size 500x500 with 1 Axes>"
      ]
     },
     "metadata": {},
     "output_type": "display_data"
    }
   ],
   "source": [
    "sns.displot(yt1.viewsSQRT)"
   ]
  },
  {
   "cell_type": "code",
   "execution_count": 20,
   "id": "e3bee634",
   "metadata": {},
   "outputs": [
    {
     "name": "stderr",
     "output_type": "stream",
     "text": [
      "C:\\Users\\chris\\AppData\\Local\\Temp\\ipykernel_16744\\825739254.py:4: SettingWithCopyWarning: \n",
      "A value is trying to be set on a copy of a slice from a DataFrame.\n",
      "Try using .loc[row_indexer,col_indexer] = value instead\n",
      "\n",
      "See the caveats in the documentation: https://pandas.pydata.org/pandas-docs/stable/user_guide/indexing.html#returning-a-view-versus-a-copy\n",
      "  yt1['viewsLOG'] = np.log(yt1.views)\n"
     ]
    }
   ],
   "source": [
    "# Still not very normal but better\n",
    "\n",
    "# Logarithmic transformation\n",
    "yt1['viewsLOG'] = np.log(yt1.views)"
   ]
  },
  {
   "cell_type": "code",
   "execution_count": 22,
   "id": "32cac461",
   "metadata": {},
   "outputs": [
    {
     "name": "stderr",
     "output_type": "stream",
     "text": [
      "C:\\Users\\chris\\AppData\\Local\\Temp\\ipykernel_16744\\3297536244.py:1: UserWarning: \n",
      "\n",
      "`distplot` is a deprecated function and will be removed in seaborn v0.14.0.\n",
      "\n",
      "Please adapt your code to use either `displot` (a figure-level function with\n",
      "similar flexibility) or `histplot` (an axes-level function for histograms).\n",
      "\n",
      "For a guide to updating your code to use the new functions, please see\n",
      "https://gist.github.com/mwaskom/de44147ed2974457ad6372750bbe5751\n",
      "\n",
      "  sns.distplot(yt1.viewsLOG)\n"
     ]
    },
    {
     "data": {
      "text/plain": [
       "<AxesSubplot: xlabel='viewsLOG', ylabel='Density'>"
      ]
     },
     "execution_count": 22,
     "metadata": {},
     "output_type": "execute_result"
    },
    {
     "data": {
      "image/png": "[encoded data removed]",
      "text/plain": [
       "<Figure size 640x480 with 1 Axes>"
      ]
     },
     "metadata": {},
     "output_type": "display_data"
    }
   ],
   "source": [
    "sns.distplot(yt1.viewsLOG)"
   ]
  },
  {
   "cell_type": "markdown",
   "id": "b2f570bc",
   "metadata": {},
   "source": [
    "### Log appears to be the closest to normal distribution\n",
    "\n",
    "## Homogeneity of Variance"
   ]
  },
  {
   "cell_type": "code",
   "execution_count": 23,
   "id": "73b4123a",
   "metadata": {},
   "outputs": [
    {
     "data": {
      "text/plain": [
       "BartlettResult(statistic=4642.606911455518, pvalue=0.0)"
      ]
     },
     "execution_count": 23,
     "metadata": {},
     "output_type": "execute_result"
    }
   ],
   "source": [
    "# Bartletts Test\n",
    "scipy.stats.bartlett(yt1.viewsLOG, yt1.grade)"
   ]
  },
  {
   "cell_type": "code",
   "execution_count": 25,
   "id": "43d56721",
   "metadata": {},
   "outputs": [
    {
     "data": {
      "text/plain": [
       "FlignerResult(statistic=2200.0468371244633, pvalue=0.0)"
      ]
     },
     "execution_count": 25,
     "metadata": {},
     "output_type": "execute_result"
    }
   ],
   "source": [
    "# Fligner's Test\n",
    "scipy.stats.fligner(yt1.viewsLOG, yt1.grade)"
   ]
  },
  {
   "cell_type": "markdown",
   "id": "d8c94c8f",
   "metadata": {},
   "source": [
    "## Both Fail to meet the assumption for Homogeneity of Variance"
   ]
  },
  {
   "cell_type": "markdown",
   "id": "559cfe49",
   "metadata": {},
   "source": [
    "# Run ANOVA \n"
   ]
  },
  {
   "cell_type": "code",
   "execution_count": 27,
   "id": "dbc6c858",
   "metadata": {},
   "outputs": [
    {
     "data": {
      "text/plain": [
       "F_onewayResult(statistic=283.85148674568444, pvalue=3.895240835935201e-170)"
      ]
     },
     "execution_count": 27,
     "metadata": {},
     "output_type": "execute_result"
    }
   ],
   "source": [
    "stats.f_oneway(yt1['viewsLOG'][yt1['grade'] == 3],\n",
    "              yt1['viewsLOG'][yt1['grade'] == 2],\n",
    "              yt1['viewsLOG'][yt1['grade'] == 1],\n",
    "              yt1['viewsLOG'][yt1['grade'] == 0])"
   ]
  },
  {
   "cell_type": "markdown",
   "id": "b0d05929",
   "metadata": {},
   "source": [
    "#### The pvalue is less than .05 and is significant"
   ]
  },
  {
   "cell_type": "markdown",
   "id": "6b42c53d",
   "metadata": {},
   "source": [
    "# Post Hoc"
   ]
  },
  {
   "cell_type": "code",
   "execution_count": 32,
   "id": "f7bf304e",
   "metadata": {},
   "outputs": [],
   "source": [
    "# Create postHoc to assign variables for Tukey function\n",
    "postHOC = MultiComparison(yt1.viewsLOG, yt1.grade)"
   ]
  },
  {
   "cell_type": "code",
   "execution_count": 35,
   "id": "3dab5176",
   "metadata": {},
   "outputs": [],
   "source": [
    "postHocResults = postHOC.tukeyhsd()"
   ]
  },
  {
   "cell_type": "code",
   "execution_count": 37,
   "id": "8e057795",
   "metadata": {},
   "outputs": [
    {
     "name": "stdout",
     "output_type": "stream",
     "text": [
      "Multiple Comparison of Means - Tukey HSD, FWER=0.05 \n",
      "====================================================\n",
      "group1 group2 meandiff p-adj   lower   upper  reject\n",
      "----------------------------------------------------\n",
      "     0      1  -1.5233 0.0085   -2.76 -0.2865   True\n",
      "     0      2   -3.103    0.0 -4.2146 -1.9913   True\n",
      "     0      3  -4.1291    0.0 -5.2399 -3.0184   True\n",
      "     1      2  -1.5797    0.0  -2.133 -1.0264   True\n",
      "     1      3  -2.6059    0.0 -3.1573 -2.0544   True\n",
      "     2      3  -1.0262    0.0 -1.1278 -0.9245   True\n",
      "----------------------------------------------------\n"
     ]
    }
   ],
   "source": [
    "print(postHocResults)"
   ]
  },
  {
   "cell_type": "markdown",
   "id": "f988903a",
   "metadata": {},
   "source": [
    "### The reject column indicates that there is a significant difference between all grades"
   ]
  },
  {
   "cell_type": "code",
   "execution_count": 51,
   "id": "320451fa",
   "metadata": {},
   "outputs": [
    {
     "data": {
      "text/html": [
       "<div>\n",
       "<style scoped>\n",
       "    .dataframe tbody tr th:only-of-type {\n",
       "        vertical-align: middle;\n",
       "    }\n",
       "\n",
       "    .dataframe tbody tr th {\n",
       "        vertical-align: top;\n",
       "    }\n",
       "\n",
       "    .dataframe thead th {\n",
       "        text-align: right;\n",
       "    }\n",
       "</style>\n",
       "<table border=\"1\" class=\"dataframe\">\n",
       "  <thead>\n",
       "    <tr style=\"text-align: right;\">\n",
       "      <th></th>\n",
       "      <th>views</th>\n",
       "      <th>viewsSQRT</th>\n",
       "      <th>viewsLOG</th>\n",
       "    </tr>\n",
       "    <tr>\n",
       "      <th>grade</th>\n",
       "      <th></th>\n",
       "      <th></th>\n",
       "      <th></th>\n",
       "    </tr>\n",
       "  </thead>\n",
       "  <tbody>\n",
       "    <tr>\n",
       "      <th>0</th>\n",
       "      <td>2.119909e+10</td>\n",
       "      <td>139631.341341</td>\n",
       "      <td>23.578544</td>\n",
       "    </tr>\n",
       "    <tr>\n",
       "      <th>1</th>\n",
       "      <td>6.053121e+09</td>\n",
       "      <td>70951.341638</td>\n",
       "      <td>22.055279</td>\n",
       "    </tr>\n",
       "    <tr>\n",
       "      <th>2</th>\n",
       "      <td>1.676207e+09</td>\n",
       "      <td>34678.089608</td>\n",
       "      <td>20.475580</td>\n",
       "    </tr>\n",
       "    <tr>\n",
       "      <th>3</th>\n",
       "      <td>5.265217e+08</td>\n",
       "      <td>19943.101566</td>\n",
       "      <td>19.449400</td>\n",
       "    </tr>\n",
       "  </tbody>\n",
       "</table>\n",
       "</div>"
      ],
      "text/plain": [
       "              views      viewsSQRT   viewsLOG\n",
       "grade                                        \n",
       "0      2.119909e+10  139631.341341  23.578544\n",
       "1      6.053121e+09   70951.341638  22.055279\n",
       "2      1.676207e+09   34678.089608  20.475580\n",
       "3      5.265217e+08   19943.101566  19.449400"
      ]
     },
     "execution_count": 51,
     "metadata": {},
     "output_type": "execute_result"
    }
   ],
   "source": [
    "# View the means\n",
    "yt1.groupby('grade').mean()"
   ]
  },
  {
   "cell_type": "markdown",
   "id": "ee63f9d9",
   "metadata": {},
   "source": [
    "### Because the data was recieved recoded, cannot be certain what each grade represents numerically. \n",
    "\n",
    "It appears the 0 has the highest mean of views and the mean of views get lower with each grade as the grade number increases. So, 3 has the lowest mean. "
   ]
  },
  {
   "cell_type": "code",
   "execution_count": null,
   "id": "745f6fd8",
   "metadata": {},
   "outputs": [],
   "source": []
  }
 ],
 "metadata": {
  "kernelspec": {
   "display_name": "Python 3 (ipykernel)",
   "language": "python",
   "name": "python3"
  },
  "language_info": {
   "codemirror_mode": {
    "name": "ipython",
    "version": 3
   },
   "file_extension": ".py",
   "mimetype": "text/x-python",
   "name": "python",
   "nbconvert_exporter": "python",
   "pygments_lexer": "ipython3",
   "version": "3.11.2"
  }
 },
 "nbformat": 4,
 "nbformat_minor": 5
}
