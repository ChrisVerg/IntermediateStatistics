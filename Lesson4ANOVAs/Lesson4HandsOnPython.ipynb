{
 "cells": [
  {
   "cell_type": "markdown",
   "id": "42ec34de",
   "metadata": {},
   "source": [
    "# Lesson 4 Python Hands on"
   ]
  },
  {
   "cell_type": "code",
   "execution_count": 1,
   "id": "109bc0c7",
   "metadata": {},
   "outputs": [],
   "source": [
    "# Load Packages\n",
    "import pandas as pd\n",
    "import numpy as np\n",
    "import scipy\n",
    "import seaborn as sns\n",
    "from scipy import stats\n",
    "from statsmodels.stats.multicomp import pairwise_tukeyhsd\n",
    "from statsmodels.stats.multicomp import MultiComparison"
   ]
  },
  {
   "cell_type": "code",
   "execution_count": 4,
   "id": "e348c688",
   "metadata": {},
   "outputs": [],
   "source": [
    "# Load Data\n",
    "avocado = pd.read_csv('C:/Users/chris/Desktop/data/DS105/Lesson4/avocados.csv')"
   ]
  },
  {
   "cell_type": "markdown",
   "id": "7a7f0e66",
   "metadata": {},
   "source": [
    "### Does the total volume of avocados sold differ between Indianapolis, Orlando, and PhoenixTucson?\n",
    "\n",
    "### Null Hypothesis, The null hypothesis is that the volume is the same between Indianapolis, Orlando, and PhoenixTucson"
   ]
  },
  {
   "cell_type": "markdown",
   "id": "68d0f54e",
   "metadata": {},
   "source": [
    "# Data Wrangling and Exploration"
   ]
  },
  {
   "cell_type": "code",
   "execution_count": 5,
   "id": "7b65ae0f",
   "metadata": {},
   "outputs": [
    {
     "data": {
      "text/html": [
       "<div>\n",
       "<style scoped>\n",
       "    .dataframe tbody tr th:only-of-type {\n",
       "        vertical-align: middle;\n",
       "    }\n",
       "\n",
       "    .dataframe tbody tr th {\n",
       "        vertical-align: top;\n",
       "    }\n",
       "\n",
       "    .dataframe thead th {\n",
       "        text-align: right;\n",
       "    }\n",
       "</style>\n",
       "<table border=\"1\" class=\"dataframe\">\n",
       "  <thead>\n",
       "    <tr style=\"text-align: right;\">\n",
       "      <th></th>\n",
       "      <th>Unnamed: 0</th>\n",
       "      <th>Date</th>\n",
       "      <th>AveragePrice</th>\n",
       "      <th>Total Volume</th>\n",
       "      <th>4046</th>\n",
       "      <th>4225</th>\n",
       "      <th>4770</th>\n",
       "      <th>Total Bags</th>\n",
       "      <th>Small Bags</th>\n",
       "      <th>Large Bags</th>\n",
       "      <th>XLarge Bags</th>\n",
       "      <th>type</th>\n",
       "      <th>year</th>\n",
       "      <th>region</th>\n",
       "    </tr>\n",
       "  </thead>\n",
       "  <tbody>\n",
       "    <tr>\n",
       "      <th>0</th>\n",
       "      <td>0</td>\n",
       "      <td>12/27/2015</td>\n",
       "      <td>1.33</td>\n",
       "      <td>64236.62</td>\n",
       "      <td>1036.74</td>\n",
       "      <td>54454.85</td>\n",
       "      <td>48.16</td>\n",
       "      <td>8696.87</td>\n",
       "      <td>8603.62</td>\n",
       "      <td>93.25</td>\n",
       "      <td>0.0</td>\n",
       "      <td>conventional</td>\n",
       "      <td>2015</td>\n",
       "      <td>Albany</td>\n",
       "    </tr>\n",
       "    <tr>\n",
       "      <th>1</th>\n",
       "      <td>1</td>\n",
       "      <td>12/20/2015</td>\n",
       "      <td>1.35</td>\n",
       "      <td>54876.98</td>\n",
       "      <td>674.28</td>\n",
       "      <td>44638.81</td>\n",
       "      <td>58.33</td>\n",
       "      <td>9505.56</td>\n",
       "      <td>9408.07</td>\n",
       "      <td>97.49</td>\n",
       "      <td>0.0</td>\n",
       "      <td>conventional</td>\n",
       "      <td>2015</td>\n",
       "      <td>Albany</td>\n",
       "    </tr>\n",
       "    <tr>\n",
       "      <th>2</th>\n",
       "      <td>2</td>\n",
       "      <td>12/13/2015</td>\n",
       "      <td>0.93</td>\n",
       "      <td>118220.22</td>\n",
       "      <td>794.70</td>\n",
       "      <td>109149.67</td>\n",
       "      <td>130.50</td>\n",
       "      <td>8145.35</td>\n",
       "      <td>8042.21</td>\n",
       "      <td>103.14</td>\n",
       "      <td>0.0</td>\n",
       "      <td>conventional</td>\n",
       "      <td>2015</td>\n",
       "      <td>Albany</td>\n",
       "    </tr>\n",
       "    <tr>\n",
       "      <th>3</th>\n",
       "      <td>3</td>\n",
       "      <td>12/6/2015</td>\n",
       "      <td>1.08</td>\n",
       "      <td>78992.15</td>\n",
       "      <td>1132.00</td>\n",
       "      <td>71976.41</td>\n",
       "      <td>72.58</td>\n",
       "      <td>5811.16</td>\n",
       "      <td>5677.40</td>\n",
       "      <td>133.76</td>\n",
       "      <td>0.0</td>\n",
       "      <td>conventional</td>\n",
       "      <td>2015</td>\n",
       "      <td>Albany</td>\n",
       "    </tr>\n",
       "    <tr>\n",
       "      <th>4</th>\n",
       "      <td>4</td>\n",
       "      <td>11/29/2015</td>\n",
       "      <td>1.28</td>\n",
       "      <td>51039.60</td>\n",
       "      <td>941.48</td>\n",
       "      <td>43838.39</td>\n",
       "      <td>75.78</td>\n",
       "      <td>6183.95</td>\n",
       "      <td>5986.26</td>\n",
       "      <td>197.69</td>\n",
       "      <td>0.0</td>\n",
       "      <td>conventional</td>\n",
       "      <td>2015</td>\n",
       "      <td>Albany</td>\n",
       "    </tr>\n",
       "  </tbody>\n",
       "</table>\n",
       "</div>"
      ],
      "text/plain": [
       "   Unnamed: 0        Date  AveragePrice  Total Volume     4046       4225   \n",
       "0           0  12/27/2015          1.33      64236.62  1036.74   54454.85  \\\n",
       "1           1  12/20/2015          1.35      54876.98   674.28   44638.81   \n",
       "2           2  12/13/2015          0.93     118220.22   794.70  109149.67   \n",
       "3           3   12/6/2015          1.08      78992.15  1132.00   71976.41   \n",
       "4           4  11/29/2015          1.28      51039.60   941.48   43838.39   \n",
       "\n",
       "     4770  Total Bags  Small Bags  Large Bags  XLarge Bags          type   \n",
       "0   48.16     8696.87     8603.62       93.25          0.0  conventional  \\\n",
       "1   58.33     9505.56     9408.07       97.49          0.0  conventional   \n",
       "2  130.50     8145.35     8042.21      103.14          0.0  conventional   \n",
       "3   72.58     5811.16     5677.40      133.76          0.0  conventional   \n",
       "4   75.78     6183.95     5986.26      197.69          0.0  conventional   \n",
       "\n",
       "   year  region  \n",
       "0  2015  Albany  \n",
       "1  2015  Albany  \n",
       "2  2015  Albany  \n",
       "3  2015  Albany  \n",
       "4  2015  Albany  "
      ]
     },
     "execution_count": 5,
     "metadata": {},
     "output_type": "execute_result"
    }
   ],
   "source": [
    "avocado.head()"
   ]
  },
  {
   "cell_type": "code",
   "execution_count": 6,
   "id": "8c6b4128",
   "metadata": {},
   "outputs": [
    {
     "data": {
      "text/plain": [
       "region\n",
       "Albany                 338\n",
       "Sacramento             338\n",
       "Northeast              338\n",
       "NorthernNewEngland     338\n",
       "Orlando                338\n",
       "Philadelphia           338\n",
       "PhoenixTucson          338\n",
       "Pittsburgh             338\n",
       "Plains                 338\n",
       "Portland               338\n",
       "RaleighGreensboro      338\n",
       "RichmondNorfolk        338\n",
       "Roanoke                338\n",
       "SanDiego               338\n",
       "Atlanta                338\n",
       "SanFrancisco           338\n",
       "Seattle                338\n",
       "SouthCarolina          338\n",
       "SouthCentral           338\n",
       "Southeast              338\n",
       "Spokane                338\n",
       "StLouis                338\n",
       "Syracuse               338\n",
       "Tampa                  338\n",
       "TotalUS                338\n",
       "West                   338\n",
       "NewYork                338\n",
       "NewOrleansMobile       338\n",
       "Nashville              338\n",
       "Midsouth               338\n",
       "BaltimoreWashington    338\n",
       "Boise                  338\n",
       "Boston                 338\n",
       "BuffaloRochester       338\n",
       "California             338\n",
       "Charlotte              338\n",
       "Chicago                338\n",
       "CincinnatiDayton       338\n",
       "Columbus               338\n",
       "DallasFtWorth          338\n",
       "Denver                 338\n",
       "Detroit                338\n",
       "GrandRapids            338\n",
       "GreatLakes             338\n",
       "HarrisburgScranton     338\n",
       "HartfordSpringfield    338\n",
       "Houston                338\n",
       "Indianapolis           338\n",
       "Jacksonville           338\n",
       "LasVegas               338\n",
       "LosAngeles             338\n",
       "Louisville             338\n",
       "MiamiFtLauderdale      338\n",
       "WestTexNewMexico       335\n",
       "Name: count, dtype: int64"
      ]
     },
     "execution_count": 6,
     "metadata": {},
     "output_type": "execute_result"
    }
   ],
   "source": [
    "avocado.region.value_counts()"
   ]
  },
  {
   "cell_type": "code",
   "execution_count": 7,
   "id": "5afe44a4",
   "metadata": {},
   "outputs": [],
   "source": [
    "# Subset/Reduce Regions to desired regions for analysis\n",
    "desiredRegions = ['Indianapolis', 'Orlando', 'PhoenixTucson']"
   ]
  },
  {
   "cell_type": "code",
   "execution_count": 9,
   "id": "93743bb8",
   "metadata": {},
   "outputs": [],
   "source": [
    "desiredRegions1 = avocado['region'].isin(desiredRegions) "
   ]
  },
  {
   "cell_type": "code",
   "execution_count": 10,
   "id": "58cba22f",
   "metadata": {},
   "outputs": [
    {
     "data": {
      "text/plain": [
       "0    False\n",
       "1    False\n",
       "2    False\n",
       "3    False\n",
       "4    False\n",
       "Name: region, dtype: bool"
      ]
     },
     "execution_count": 10,
     "metadata": {},
     "output_type": "execute_result"
    }
   ],
   "source": [
    "desiredRegions1.head()"
   ]
  },
  {
   "cell_type": "code",
   "execution_count": 14,
   "id": "042448e6",
   "metadata": {},
   "outputs": [],
   "source": [
    "avocado1 = avocado[desiredRegions1].copy()"
   ]
  },
  {
   "cell_type": "markdown",
   "id": "766b4c72",
   "metadata": {},
   "source": [
    "##  Recode Regions with numeric value as \n",
    "\n",
    " 0 = Indianapolis\n",
    " 1 = Orlando    \n",
    " 2 = PhoenixTucson    "
   ]
  },
  {
   "cell_type": "code",
   "execution_count": 23,
   "id": "4982f9e6",
   "metadata": {},
   "outputs": [],
   "source": [
    "def CityRecode(series):\n",
    "    if series == 'Indianapolis':\n",
    "        return 0\n",
    "    if series == 'Orlando':\n",
    "        return 1\n",
    "    if series == 'PhoenixTucson':\n",
    "        return 2\n",
    "\n",
    "avocado1['regionR'] = avocado1.region.apply(CityRecode)"
   ]
  },
  {
   "cell_type": "code",
   "execution_count": 24,
   "id": "aadbc612",
   "metadata": {},
   "outputs": [],
   "source": [
    "# recode Total Volume to volume\n",
    "avocado1['volume'] = avocado1['Total Volume']"
   ]
  },
  {
   "cell_type": "code",
   "execution_count": 25,
   "id": "1d49c486",
   "metadata": {},
   "outputs": [
    {
     "data": {
      "text/html": [
       "<div>\n",
       "<style scoped>\n",
       "    .dataframe tbody tr th:only-of-type {\n",
       "        vertical-align: middle;\n",
       "    }\n",
       "\n",
       "    .dataframe tbody tr th {\n",
       "        vertical-align: top;\n",
       "    }\n",
       "\n",
       "    .dataframe thead th {\n",
       "        text-align: right;\n",
       "    }\n",
       "</style>\n",
       "<table border=\"1\" class=\"dataframe\">\n",
       "  <thead>\n",
       "    <tr style=\"text-align: right;\">\n",
       "      <th></th>\n",
       "      <th>Unnamed: 0</th>\n",
       "      <th>Date</th>\n",
       "      <th>AveragePrice</th>\n",
       "      <th>Total Volume</th>\n",
       "      <th>4046</th>\n",
       "      <th>4225</th>\n",
       "      <th>4770</th>\n",
       "      <th>Total Bags</th>\n",
       "      <th>Small Bags</th>\n",
       "      <th>Large Bags</th>\n",
       "      <th>XLarge Bags</th>\n",
       "      <th>type</th>\n",
       "      <th>year</th>\n",
       "      <th>region</th>\n",
       "      <th>volume</th>\n",
       "      <th>regionR</th>\n",
       "    </tr>\n",
       "  </thead>\n",
       "  <tbody>\n",
       "    <tr>\n",
       "      <th>988</th>\n",
       "      <td>0</td>\n",
       "      <td>12/27/2015</td>\n",
       "      <td>1.04</td>\n",
       "      <td>123096.09</td>\n",
       "      <td>4647.28</td>\n",
       "      <td>69384.73</td>\n",
       "      <td>11206.40</td>\n",
       "      <td>37857.68</td>\n",
       "      <td>20644.64</td>\n",
       "      <td>11524.06</td>\n",
       "      <td>5688.98</td>\n",
       "      <td>conventional</td>\n",
       "      <td>2015</td>\n",
       "      <td>Indianapolis</td>\n",
       "      <td>123096.09</td>\n",
       "      <td>0</td>\n",
       "    </tr>\n",
       "    <tr>\n",
       "      <th>989</th>\n",
       "      <td>1</td>\n",
       "      <td>12/20/2015</td>\n",
       "      <td>1.10</td>\n",
       "      <td>116353.68</td>\n",
       "      <td>3702.20</td>\n",
       "      <td>67983.94</td>\n",
       "      <td>9327.71</td>\n",
       "      <td>35339.83</td>\n",
       "      <td>18144.63</td>\n",
       "      <td>12133.67</td>\n",
       "      <td>5061.53</td>\n",
       "      <td>conventional</td>\n",
       "      <td>2015</td>\n",
       "      <td>Indianapolis</td>\n",
       "      <td>116353.68</td>\n",
       "      <td>0</td>\n",
       "    </tr>\n",
       "    <tr>\n",
       "      <th>990</th>\n",
       "      <td>2</td>\n",
       "      <td>12/13/2015</td>\n",
       "      <td>1.03</td>\n",
       "      <td>125342.89</td>\n",
       "      <td>4904.51</td>\n",
       "      <td>69984.32</td>\n",
       "      <td>11398.44</td>\n",
       "      <td>39055.62</td>\n",
       "      <td>21259.82</td>\n",
       "      <td>15580.08</td>\n",
       "      <td>2215.72</td>\n",
       "      <td>conventional</td>\n",
       "      <td>2015</td>\n",
       "      <td>Indianapolis</td>\n",
       "      <td>125342.89</td>\n",
       "      <td>0</td>\n",
       "    </tr>\n",
       "    <tr>\n",
       "      <th>991</th>\n",
       "      <td>3</td>\n",
       "      <td>12/6/2015</td>\n",
       "      <td>0.92</td>\n",
       "      <td>145740.44</td>\n",
       "      <td>4067.00</td>\n",
       "      <td>89452.99</td>\n",
       "      <td>13570.12</td>\n",
       "      <td>38650.33</td>\n",
       "      <td>19365.92</td>\n",
       "      <td>17733.68</td>\n",
       "      <td>1550.73</td>\n",
       "      <td>conventional</td>\n",
       "      <td>2015</td>\n",
       "      <td>Indianapolis</td>\n",
       "      <td>145740.44</td>\n",
       "      <td>0</td>\n",
       "    </tr>\n",
       "    <tr>\n",
       "      <th>992</th>\n",
       "      <td>4</td>\n",
       "      <td>11/29/2015</td>\n",
       "      <td>1.08</td>\n",
       "      <td>108444.41</td>\n",
       "      <td>3079.44</td>\n",
       "      <td>65254.08</td>\n",
       "      <td>10854.59</td>\n",
       "      <td>29256.30</td>\n",
       "      <td>17455.74</td>\n",
       "      <td>9975.21</td>\n",
       "      <td>1825.35</td>\n",
       "      <td>conventional</td>\n",
       "      <td>2015</td>\n",
       "      <td>Indianapolis</td>\n",
       "      <td>108444.41</td>\n",
       "      <td>0</td>\n",
       "    </tr>\n",
       "  </tbody>\n",
       "</table>\n",
       "</div>"
      ],
      "text/plain": [
       "     Unnamed: 0        Date  AveragePrice  Total Volume     4046      4225   \n",
       "988           0  12/27/2015          1.04     123096.09  4647.28  69384.73  \\\n",
       "989           1  12/20/2015          1.10     116353.68  3702.20  67983.94   \n",
       "990           2  12/13/2015          1.03     125342.89  4904.51  69984.32   \n",
       "991           3   12/6/2015          0.92     145740.44  4067.00  89452.99   \n",
       "992           4  11/29/2015          1.08     108444.41  3079.44  65254.08   \n",
       "\n",
       "         4770  Total Bags  Small Bags  Large Bags  XLarge Bags          type   \n",
       "988  11206.40    37857.68    20644.64    11524.06      5688.98  conventional  \\\n",
       "989   9327.71    35339.83    18144.63    12133.67      5061.53  conventional   \n",
       "990  11398.44    39055.62    21259.82    15580.08      2215.72  conventional   \n",
       "991  13570.12    38650.33    19365.92    17733.68      1550.73  conventional   \n",
       "992  10854.59    29256.30    17455.74     9975.21      1825.35  conventional   \n",
       "\n",
       "     year        region     volume  regionR  \n",
       "988  2015  Indianapolis  123096.09        0  \n",
       "989  2015  Indianapolis  116353.68        0  \n",
       "990  2015  Indianapolis  125342.89        0  \n",
       "991  2015  Indianapolis  145740.44        0  \n",
       "992  2015  Indianapolis  108444.41        0  "
      ]
     },
     "execution_count": 25,
     "metadata": {},
     "output_type": "execute_result"
    }
   ],
   "source": [
    "avocado1.head()"
   ]
  },
  {
   "cell_type": "code",
   "execution_count": 26,
   "id": "da6b8dea",
   "metadata": {},
   "outputs": [
    {
     "data": {
      "text/plain": [
       "region\n",
       "Indianapolis     338\n",
       "Orlando          338\n",
       "PhoenixTucson    338\n",
       "Name: count, dtype: int64"
      ]
     },
     "execution_count": 26,
     "metadata": {},
     "output_type": "execute_result"
    }
   ],
   "source": [
    "# Confirm the regions are reduced to working regions\n",
    "avocado1.region.value_counts()"
   ]
  },
  {
   "cell_type": "code",
   "execution_count": 28,
   "id": "3d47f923",
   "metadata": {},
   "outputs": [],
   "source": [
    "# Subset data for only DV and IV for Assumptions and analysis\n",
    "avocado2 = avocado1[['volume','regionR']]"
   ]
  },
  {
   "cell_type": "code",
   "execution_count": 29,
   "id": "116b2741",
   "metadata": {},
   "outputs": [
    {
     "name": "stdout",
     "output_type": "stream",
     "text": [
      "<class 'pandas.core.frame.DataFrame'>\n",
      "Index: 1014 entries, 988 to 18008\n",
      "Data columns (total 2 columns):\n",
      " #   Column   Non-Null Count  Dtype  \n",
      "---  ------   --------------  -----  \n",
      " 0   volume   1014 non-null   float64\n",
      " 1   regionR  1014 non-null   int64  \n",
      "dtypes: float64(1), int64(1)\n",
      "memory usage: 23.8 KB\n"
     ]
    }
   ],
   "source": [
    "avocado2.info()"
   ]
  },
  {
   "cell_type": "markdown",
   "id": "9fa16003",
   "metadata": {},
   "source": [
    "# Assumptions"
   ]
  },
  {
   "cell_type": "code",
   "execution_count": 30,
   "id": "b49d25d9",
   "metadata": {},
   "outputs": [
    {
     "name": "stderr",
     "output_type": "stream",
     "text": [
      "C:\\Users\\chris\\AppData\\Local\\Temp\\ipykernel_26744\\3116085633.py:4: UserWarning: \n",
      "\n",
      "`distplot` is a deprecated function and will be removed in seaborn v0.14.0.\n",
      "\n",
      "Please adapt your code to use either `displot` (a figure-level function with\n",
      "similar flexibility) or `histplot` (an axes-level function for histograms).\n",
      "\n",
      "For a guide to updating your code to use the new functions, please see\n",
      "https://gist.github.com/mwaskom/de44147ed2974457ad6372750bbe5751\n",
      "\n",
      "  sns.distplot(avocado2.volume)\n"
     ]
    },
    {
     "data": {
      "text/plain": [
       "<AxesSubplot: xlabel='volume', ylabel='Density'>"
      ]
     },
     "execution_count": 30,
     "metadata": {},
     "output_type": "execute_result"
    },
    {
     "data": {
      "image/png": "[encoded data removed]",
      "text/plain": [
       "<Figure size 640x480 with 1 Axes>"
      ]
     },
     "metadata": {},
     "output_type": "display_data"
    }
   ],
   "source": [
    "# n > 20    Sample size is acceptable\n",
    "\n",
    "# Normality\n",
    "sns.distplot(avocado2.volume)"
   ]
  },
  {
   "cell_type": "markdown",
   "id": "6336e8a1",
   "metadata": {},
   "source": [
    "Not Normal With Positive Skew"
   ]
  },
  {
   "cell_type": "code",
   "execution_count": 31,
   "id": "15e56732",
   "metadata": {},
   "outputs": [
    {
     "name": "stderr",
     "output_type": "stream",
     "text": [
      "C:\\Users\\chris\\AppData\\Local\\Temp\\ipykernel_26744\\3759094511.py:2: SettingWithCopyWarning: \n",
      "A value is trying to be set on a copy of a slice from a DataFrame.\n",
      "Try using .loc[row_indexer,col_indexer] = value instead\n",
      "\n",
      "See the caveats in the documentation: https://pandas.pydata.org/pandas-docs/stable/user_guide/indexing.html#returning-a-view-versus-a-copy\n",
      "  avocado2['volumeSQRT'] = np.sqrt(avocado2['volume'])\n"
     ]
    }
   ],
   "source": [
    "# Square Root transformation\n",
    "avocado2['volumeSQRT'] = np.sqrt(avocado2['volume'])"
   ]
  },
  {
   "cell_type": "code",
   "execution_count": 32,
   "id": "255d80a2",
   "metadata": {},
   "outputs": [
    {
     "name": "stderr",
     "output_type": "stream",
     "text": [
      "C:\\Users\\chris\\AppData\\Local\\Temp\\ipykernel_26744\\1781715412.py:1: UserWarning: \n",
      "\n",
      "`distplot` is a deprecated function and will be removed in seaborn v0.14.0.\n",
      "\n",
      "Please adapt your code to use either `displot` (a figure-level function with\n",
      "similar flexibility) or `histplot` (an axes-level function for histograms).\n",
      "\n",
      "For a guide to updating your code to use the new functions, please see\n",
      "https://gist.github.com/mwaskom/de44147ed2974457ad6372750bbe5751\n",
      "\n",
      "  sns.distplot(avocado2.volumeSQRT)\n"
     ]
    },
    {
     "data": {
      "text/plain": [
       "<AxesSubplot: xlabel='volumeSQRT', ylabel='Density'>"
      ]
     },
     "execution_count": 32,
     "metadata": {},
     "output_type": "execute_result"
    },
    {
     "data": {
      "image/png": "[encoded data removed]",
      "text/plain": [
       "<Figure size 640x480 with 1 Axes>"
      ]
     },
     "metadata": {},
     "output_type": "display_data"
    }
   ],
   "source": [
    "sns.distplot(avocado2.volumeSQRT)"
   ]
  },
  {
   "cell_type": "markdown",
   "id": "023d1282",
   "metadata": {},
   "source": [
    "This one is not much better."
   ]
  },
  {
   "cell_type": "code",
   "execution_count": 33,
   "id": "5999d60d",
   "metadata": {},
   "outputs": [
    {
     "name": "stderr",
     "output_type": "stream",
     "text": [
      "C:\\Users\\chris\\AppData\\Local\\Temp\\ipykernel_26744\\228692215.py:2: SettingWithCopyWarning: \n",
      "A value is trying to be set on a copy of a slice from a DataFrame.\n",
      "Try using .loc[row_indexer,col_indexer] = value instead\n",
      "\n",
      "See the caveats in the documentation: https://pandas.pydata.org/pandas-docs/stable/user_guide/indexing.html#returning-a-view-versus-a-copy\n",
      "  avocado2['volumeLOG'] = np.log(avocado2['volume'])\n"
     ]
    }
   ],
   "source": [
    "# Logarithmic Transformation\n",
    "avocado2['volumeLOG'] = np.log(avocado2['volume'])"
   ]
  },
  {
   "cell_type": "code",
   "execution_count": 34,
   "id": "c7fe2c91",
   "metadata": {},
   "outputs": [
    {
     "name": "stderr",
     "output_type": "stream",
     "text": [
      "C:\\Users\\chris\\AppData\\Local\\Temp\\ipykernel_26744\\2126638009.py:1: UserWarning: \n",
      "\n",
      "`distplot` is a deprecated function and will be removed in seaborn v0.14.0.\n",
      "\n",
      "Please adapt your code to use either `displot` (a figure-level function with\n",
      "similar flexibility) or `histplot` (an axes-level function for histograms).\n",
      "\n",
      "For a guide to updating your code to use the new functions, please see\n",
      "https://gist.github.com/mwaskom/de44147ed2974457ad6372750bbe5751\n",
      "\n",
      "  sns.distplot(avocado2.volumeLOG)\n"
     ]
    },
    {
     "data": {
      "text/plain": [
       "<AxesSubplot: xlabel='volumeLOG', ylabel='Density'>"
      ]
     },
     "execution_count": 34,
     "metadata": {},
     "output_type": "execute_result"
    },
    {
     "data": {
      "image/png": "[encoded data removed]",
      "text/plain": [
       "<Figure size 640x480 with 1 Axes>"
      ]
     },
     "metadata": {},
     "output_type": "display_data"
    }
   ],
   "source": [
    "sns.distplot(avocado2.volumeLOG)"
   ]
  },
  {
   "cell_type": "markdown",
   "id": "341d9698",
   "metadata": {},
   "source": [
    "#### There is not really a great option for normal data in this case"
   ]
  },
  {
   "cell_type": "code",
   "execution_count": 42,
   "id": "9a3a9b5b",
   "metadata": {},
   "outputs": [
    {
     "data": {
      "text/plain": [
       "BartlettResult(statistic=25236.742336926767, pvalue=0.0)"
      ]
     },
     "execution_count": 42,
     "metadata": {},
     "output_type": "execute_result"
    }
   ],
   "source": [
    "# Homogeneity of Variance\n",
    "\n",
    "# Bartletts Test \n",
    "scipy.stats.bartlett(avocado2.volume, avocado2.regionR)"
   ]
  },
  {
   "cell_type": "code",
   "execution_count": 43,
   "id": "ed128cfd",
   "metadata": {},
   "outputs": [
    {
     "data": {
      "text/plain": [
       "BartlettResult(statistic=883.7919675933721, pvalue=3.2755760094735546e-194)"
      ]
     },
     "execution_count": 43,
     "metadata": {},
     "output_type": "execute_result"
    }
   ],
   "source": [
    "# Homogeneity of Variance\n",
    "\n",
    "# Bartletts Test \n",
    "scipy.stats.bartlett(avocado2.volumeLOG, avocado2.regionR)"
   ]
  },
  {
   "cell_type": "code",
   "execution_count": 44,
   "id": "6dce5ec0",
   "metadata": {},
   "outputs": [
    {
     "data": {
      "text/plain": [
       "BartlettResult(statistic=10955.970638486806, pvalue=0.0)"
      ]
     },
     "execution_count": 44,
     "metadata": {},
     "output_type": "execute_result"
    }
   ],
   "source": [
    "# Homogeneity of Variance\n",
    "\n",
    "# Bartletts Test \n",
    "scipy.stats.bartlett(avocado2.volumeSQRT, avocado2.regionR)"
   ]
  },
  {
   "cell_type": "code",
   "execution_count": 46,
   "id": "13bdd4fd",
   "metadata": {},
   "outputs": [
    {
     "data": {
      "text/plain": [
       "FlignerResult(statistic=1280.3498904524556, pvalue=2.1061583618009585e-280)"
      ]
     },
     "execution_count": 46,
     "metadata": {},
     "output_type": "execute_result"
    }
   ],
   "source": [
    "# Fligners Test \n",
    "scipy.stats.fligner(avocado2.volume, avocado2.regionR)"
   ]
  },
  {
   "cell_type": "code",
   "execution_count": 47,
   "id": "31a96646",
   "metadata": {},
   "outputs": [
    {
     "data": {
      "text/plain": [
       "FlignerResult(statistic=1280.3498906727314, pvalue=2.1061581296521129e-280)"
      ]
     },
     "execution_count": 47,
     "metadata": {},
     "output_type": "execute_result"
    }
   ],
   "source": [
    "# Fligners Test \n",
    "scipy.stats.fligner(avocado2.volumeSQRT, avocado2.regionR)"
   ]
  },
  {
   "cell_type": "code",
   "execution_count": 48,
   "id": "784743c0",
   "metadata": {},
   "outputs": [
    {
     "data": {
      "text/plain": [
       "FlignerResult(statistic=1106.1971206828098, pvalue=1.4858650815524343e-242)"
      ]
     },
     "execution_count": 48,
     "metadata": {},
     "output_type": "execute_result"
    }
   ],
   "source": [
    "# Fligners Test \n",
    "scipy.stats.fligner(avocado2.volumeLOG, avocado2.regionR)"
   ]
  },
  {
   "cell_type": "markdown",
   "id": "512272f2",
   "metadata": {},
   "source": [
    "### The pvalue is less than .05 for every possible combination of the tested as non-parametric data and normally distributed. The data does not pass for Homogeity of Variance"
   ]
  },
  {
   "cell_type": "markdown",
   "id": "9ab9f6e8",
   "metadata": {},
   "source": [
    "# ANOVA\n",
    "Testing despite Homegeneity "
   ]
  },
  {
   "cell_type": "code",
   "execution_count": 55,
   "id": "162788ed",
   "metadata": {},
   "outputs": [
    {
     "data": {
      "text/plain": [
       "F_onewayResult(statistic=174.05378837225294, pvalue=1.1012762564576868e-65)"
      ]
     },
     "execution_count": 55,
     "metadata": {},
     "output_type": "execute_result"
    }
   ],
   "source": [
    "stats.f_oneway(avocado2['volume'][avocado2['regionR'] == 0],\n",
    "              avocado2['volume'][avocado2['regionR'] == 1],\n",
    "              avocado2['volume'][avocado2['regionR'] == 2])"
   ]
  },
  {
   "cell_type": "markdown",
   "id": "dc76c652",
   "metadata": {},
   "source": [
    "Pvalue is significantly different between cities so the null hypothesis is rejected. "
   ]
  },
  {
   "cell_type": "markdown",
   "id": "fc026f1f",
   "metadata": {},
   "source": [
    "# Post Hoc"
   ]
  },
  {
   "cell_type": "code",
   "execution_count": 59,
   "id": "339ad220",
   "metadata": {},
   "outputs": [],
   "source": [
    "# Create postHoc to assign variables for Tukey function\n",
    "postHOC = MultiComparison(avocado2.volume, avocado2.regionR)"
   ]
  },
  {
   "cell_type": "code",
   "execution_count": 60,
   "id": "d76a2d2f",
   "metadata": {},
   "outputs": [],
   "source": [
    "postHocResults = postHOC.tukeyhsd()"
   ]
  },
  {
   "cell_type": "code",
   "execution_count": 61,
   "id": "c3baa57b",
   "metadata": {},
   "outputs": [
    {
     "name": "stdout",
     "output_type": "stream",
     "text": [
      "      Multiple Comparison of Means - Tukey HSD, FWER=0.05      \n",
      "===============================================================\n",
      "group1 group2   meandiff  p-adj     lower       upper    reject\n",
      "---------------------------------------------------------------\n",
      "     0      1  84015.7173 0.0079  18188.0124 149843.4223   True\n",
      "     0      2 489289.7073    0.0 423462.0024 555117.4123   True\n",
      "     1      2   405273.99    0.0  339446.285 471101.6949   True\n",
      "---------------------------------------------------------------\n"
     ]
    }
   ],
   "source": [
    "print(postHocResults)"
   ]
  },
  {
   "cell_type": "markdown",
   "id": "e70f5d8a",
   "metadata": {},
   "source": [
    "### Each Column is rejected indicating there is a significant differnece\n"
   ]
  },
  {
   "cell_type": "code",
   "execution_count": 64,
   "id": "8ad53a16",
   "metadata": {},
   "outputs": [
    {
     "data": {
      "text/html": [
       "<div>\n",
       "<style scoped>\n",
       "    .dataframe tbody tr th:only-of-type {\n",
       "        vertical-align: middle;\n",
       "    }\n",
       "\n",
       "    .dataframe tbody tr th {\n",
       "        vertical-align: top;\n",
       "    }\n",
       "\n",
       "    .dataframe thead th {\n",
       "        text-align: right;\n",
       "    }\n",
       "</style>\n",
       "<table border=\"1\" class=\"dataframe\">\n",
       "  <thead>\n",
       "    <tr style=\"text-align: right;\">\n",
       "      <th></th>\n",
       "      <th>volume</th>\n",
       "      <th>volumeSQRT</th>\n",
       "      <th>volumeLOG</th>\n",
       "    </tr>\n",
       "    <tr>\n",
       "      <th>regionR</th>\n",
       "      <th></th>\n",
       "      <th></th>\n",
       "      <th></th>\n",
       "    </tr>\n",
       "  </thead>\n",
       "  <tbody>\n",
       "    <tr>\n",
       "      <th>0</th>\n",
       "      <td>89536.661036</td>\n",
       "      <td>240.446599</td>\n",
       "      <td>10.157564</td>\n",
       "    </tr>\n",
       "    <tr>\n",
       "      <th>1</th>\n",
       "      <td>173552.378373</td>\n",
       "      <td>324.645892</td>\n",
       "      <td>10.586744</td>\n",
       "    </tr>\n",
       "    <tr>\n",
       "      <th>2</th>\n",
       "      <td>578826.368343</td>\n",
       "      <td>585.837880</td>\n",
       "      <td>11.634171</td>\n",
       "    </tr>\n",
       "  </tbody>\n",
       "</table>\n",
       "</div>"
      ],
      "text/plain": [
       "                volume  volumeSQRT  volumeLOG\n",
       "regionR                                      \n",
       "0         89536.661036  240.446599  10.157564\n",
       "1        173552.378373  324.645892  10.586744\n",
       "2        578826.368343  585.837880  11.634171"
      ]
     },
     "execution_count": 64,
     "metadata": {},
     "output_type": "execute_result"
    }
   ],
   "source": [
    "# Look at the means\n",
    "avocado2.groupby('regionR').mean()\n",
    "\n",
    "#  0 = Indianapolis\n",
    "#  1 = Orlando    \n",
    "#  2 = PhoenixTucson "
   ]
  },
  {
   "cell_type": "markdown",
   "id": "90d9cfb7",
   "metadata": {},
   "source": [
    "## PhoenixTucson appears to have the highest mean of volume out of the 3 regions.PhoenixTucson has more than 6 times the volume of Indianapolis having the lowest mean and more than 3 times the volume of Orlando. "
   ]
  },
  {
   "cell_type": "code",
   "execution_count": null,
   "id": "978b8c71",
   "metadata": {},
   "outputs": [],
   "source": []
  }
 ],
 "metadata": {
  "kernelspec": {
   "display_name": "Python 3 (ipykernel)",
   "language": "python",
   "name": "python3"
  },
  "language_info": {
   "codemirror_mode": {
    "name": "ipython",
    "version": 3
   },
   "file_extension": ".py",
   "mimetype": "text/x-python",
   "name": "python",
   "nbconvert_exporter": "python",
   "pygments_lexer": "ipython3",
   "version": "3.11.2"
  }
 },
 "nbformat": 4,
 "nbformat_minor": 5
}
