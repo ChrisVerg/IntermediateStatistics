{
 "cells": [
  {
   "cell_type": "markdown",
   "id": "417dcd76",
   "metadata": {},
   "source": [
    "# Import Packages for ANOVA computations"
   ]
  },
  {
   "cell_type": "code",
   "execution_count": 1,
   "id": "2934d847",
   "metadata": {},
   "outputs": [],
   "source": [
    "import pandas as pd\n",
    "import numpy as np\n",
    "import scipy\n",
    "import seaborn as sns\n",
    "from scipy import stats\n",
    "from statsmodels.stats.multicomp import pairwise_tukeyhsd\n",
    "from statsmodels.stats.multicomp import MultiComparison"
   ]
  },
  {
   "cell_type": "code",
   "execution_count": 2,
   "id": "5603d34c",
   "metadata": {},
   "outputs": [],
   "source": [
    "store = pd.read_csv('C:/Users/chris/Desktop/data/DS105/Lesson4/googleplaystore.csv')"
   ]
  },
  {
   "cell_type": "markdown",
   "id": "ff34a4a5",
   "metadata": {},
   "source": [
    "### Question Setup\n",
    "#### Is there a difference in the number of reviews among the three app categories of beauty, food and drink, and photography? "
   ]
  },
  {
   "cell_type": "code",
   "execution_count": 3,
   "id": "9fc1a3f2",
   "metadata": {},
   "outputs": [
    {
     "data": {
      "text/html": [
       "<div>\n",
       "<style scoped>\n",
       "    .dataframe tbody tr th:only-of-type {\n",
       "        vertical-align: middle;\n",
       "    }\n",
       "\n",
       "    .dataframe tbody tr th {\n",
       "        vertical-align: top;\n",
       "    }\n",
       "\n",
       "    .dataframe thead th {\n",
       "        text-align: right;\n",
       "    }\n",
       "</style>\n",
       "<table border=\"1\" class=\"dataframe\">\n",
       "  <thead>\n",
       "    <tr style=\"text-align: right;\">\n",
       "      <th></th>\n",
       "      <th>Unnamed: 0</th>\n",
       "      <th>App</th>\n",
       "      <th>Category</th>\n",
       "      <th>Rating</th>\n",
       "      <th>Reviews</th>\n",
       "      <th>Size</th>\n",
       "      <th>Installs</th>\n",
       "      <th>Type</th>\n",
       "      <th>Price</th>\n",
       "      <th>Content.Rating</th>\n",
       "      <th>Genres</th>\n",
       "      <th>Last.Updated</th>\n",
       "      <th>Current.Ver</th>\n",
       "      <th>Android.Ver</th>\n",
       "    </tr>\n",
       "  </thead>\n",
       "  <tbody>\n",
       "    <tr>\n",
       "      <th>0</th>\n",
       "      <td>1</td>\n",
       "      <td>Photo Editor &amp; Candy Camera &amp; Grid &amp; ScrapBook</td>\n",
       "      <td>ART_AND_DESIGN</td>\n",
       "      <td>4.1</td>\n",
       "      <td>159</td>\n",
       "      <td>19M</td>\n",
       "      <td>10,000+</td>\n",
       "      <td>Free</td>\n",
       "      <td>0</td>\n",
       "      <td>Everyone</td>\n",
       "      <td>Art &amp; Design</td>\n",
       "      <td>7-Jan-18</td>\n",
       "      <td>1.0.0</td>\n",
       "      <td>4.0.3 and up</td>\n",
       "    </tr>\n",
       "    <tr>\n",
       "      <th>1</th>\n",
       "      <td>2</td>\n",
       "      <td>Coloring book moana</td>\n",
       "      <td>ART_AND_DESIGN</td>\n",
       "      <td>3.9</td>\n",
       "      <td>967</td>\n",
       "      <td>14M</td>\n",
       "      <td>500,000+</td>\n",
       "      <td>Free</td>\n",
       "      <td>0</td>\n",
       "      <td>Everyone</td>\n",
       "      <td>Art &amp; Design;Pretend Play</td>\n",
       "      <td>15-Jan-18</td>\n",
       "      <td>2.0.0</td>\n",
       "      <td>4.0.3 and up</td>\n",
       "    </tr>\n",
       "    <tr>\n",
       "      <th>2</th>\n",
       "      <td>3</td>\n",
       "      <td>U Launcher Lite – FREE Live Cool Themes, Hide ...</td>\n",
       "      <td>ART_AND_DESIGN</td>\n",
       "      <td>4.7</td>\n",
       "      <td>87510</td>\n",
       "      <td>8.7M</td>\n",
       "      <td>5,000,000+</td>\n",
       "      <td>Free</td>\n",
       "      <td>0</td>\n",
       "      <td>Everyone</td>\n",
       "      <td>Art &amp; Design</td>\n",
       "      <td>1-Aug-18</td>\n",
       "      <td>1.2.4</td>\n",
       "      <td>4.0.3 and up</td>\n",
       "    </tr>\n",
       "    <tr>\n",
       "      <th>3</th>\n",
       "      <td>4</td>\n",
       "      <td>Sketch - Draw &amp; Paint</td>\n",
       "      <td>ART_AND_DESIGN</td>\n",
       "      <td>4.5</td>\n",
       "      <td>215644</td>\n",
       "      <td>25M</td>\n",
       "      <td>50,000,000+</td>\n",
       "      <td>Free</td>\n",
       "      <td>0</td>\n",
       "      <td>Teen</td>\n",
       "      <td>Art &amp; Design</td>\n",
       "      <td>8-Jun-18</td>\n",
       "      <td>Varies with device</td>\n",
       "      <td>4.2 and up</td>\n",
       "    </tr>\n",
       "    <tr>\n",
       "      <th>4</th>\n",
       "      <td>5</td>\n",
       "      <td>Pixel Draw - Number Art Coloring Book</td>\n",
       "      <td>ART_AND_DESIGN</td>\n",
       "      <td>4.3</td>\n",
       "      <td>967</td>\n",
       "      <td>2.8M</td>\n",
       "      <td>100,000+</td>\n",
       "      <td>Free</td>\n",
       "      <td>0</td>\n",
       "      <td>Everyone</td>\n",
       "      <td>Art &amp; Design;Creativity</td>\n",
       "      <td>20-Jun-18</td>\n",
       "      <td>1.1</td>\n",
       "      <td>4.4 and up</td>\n",
       "    </tr>\n",
       "  </tbody>\n",
       "</table>\n",
       "</div>"
      ],
      "text/plain": [
       "   Unnamed: 0                                                App   \n",
       "0           1     Photo Editor & Candy Camera & Grid & ScrapBook  \\\n",
       "1           2                                Coloring book moana   \n",
       "2           3  U Launcher Lite – FREE Live Cool Themes, Hide ...   \n",
       "3           4                              Sketch - Draw & Paint   \n",
       "4           5              Pixel Draw - Number Art Coloring Book   \n",
       "\n",
       "         Category  Rating Reviews  Size     Installs  Type Price   \n",
       "0  ART_AND_DESIGN     4.1     159   19M      10,000+  Free     0  \\\n",
       "1  ART_AND_DESIGN     3.9     967   14M     500,000+  Free     0   \n",
       "2  ART_AND_DESIGN     4.7   87510  8.7M   5,000,000+  Free     0   \n",
       "3  ART_AND_DESIGN     4.5  215644   25M  50,000,000+  Free     0   \n",
       "4  ART_AND_DESIGN     4.3     967  2.8M     100,000+  Free     0   \n",
       "\n",
       "  Content.Rating                     Genres Last.Updated         Current.Ver   \n",
       "0       Everyone               Art & Design     7-Jan-18               1.0.0  \\\n",
       "1       Everyone  Art & Design;Pretend Play    15-Jan-18               2.0.0   \n",
       "2       Everyone               Art & Design     1-Aug-18               1.2.4   \n",
       "3           Teen               Art & Design     8-Jun-18  Varies with device   \n",
       "4       Everyone    Art & Design;Creativity    20-Jun-18                 1.1   \n",
       "\n",
       "    Android.Ver  \n",
       "0  4.0.3 and up  \n",
       "1  4.0.3 and up  \n",
       "2  4.0.3 and up  \n",
       "3    4.2 and up  \n",
       "4    4.4 and up  "
      ]
     },
     "execution_count": 3,
     "metadata": {},
     "output_type": "execute_result"
    }
   ],
   "source": [
    "store.head()"
   ]
  },
  {
   "cell_type": "code",
   "execution_count": 4,
   "id": "3c66fa69",
   "metadata": {},
   "outputs": [
    {
     "data": {
      "text/plain": [
       "Category\n",
       "1.9                    19.000000\n",
       "EVENTS                  4.435556\n",
       "EDUCATION               4.389032\n",
       "ART_AND_DESIGN          4.358065\n",
       "BOOKS_AND_REFERENCE     4.346067\n",
       "PERSONALIZATION         4.335987\n",
       "PARENTING               4.300000\n",
       "GAME                    4.286326\n",
       "BEAUTY                  4.278571\n",
       "HEALTH_AND_FITNESS      4.277104\n",
       "SHOPPING                4.259664\n",
       "SOCIAL                  4.255598\n",
       "WEATHER                 4.244000\n",
       "SPORTS                  4.223511\n",
       "PRODUCTIVITY            4.211396\n",
       "HOUSE_AND_HOME          4.197368\n",
       "FAMILY                  4.192272\n",
       "PHOTOGRAPHY             4.192114\n",
       "AUTO_AND_VEHICLES       4.190411\n",
       "MEDICAL                 4.189143\n",
       "LIBRARIES_AND_DEMO      4.178462\n",
       "FOOD_AND_DRINK          4.166972\n",
       "COMMUNICATION           4.158537\n",
       "COMICS                  4.155172\n",
       "NEWS_AND_MAGAZINES      4.132189\n",
       "FINANCE                 4.131889\n",
       "ENTERTAINMENT           4.126174\n",
       "BUSINESS                4.121452\n",
       "TRAVEL_AND_LOCAL        4.109292\n",
       "LIFESTYLE               4.094904\n",
       "VIDEO_PLAYERS           4.063750\n",
       "MAPS_AND_NAVIGATION     4.051613\n",
       "TOOLS                   4.047411\n",
       "DATING                  3.970769\n",
       "Name: Rating, dtype: float64"
      ]
     },
     "execution_count": 4,
     "metadata": {},
     "output_type": "execute_result"
    }
   ],
   "source": [
    "store.groupby('Category')['Rating'].mean().sort_values(ascending = False)"
   ]
  },
  {
   "cell_type": "code",
   "execution_count": 5,
   "id": "120e5e59",
   "metadata": {},
   "outputs": [
    {
     "data": {
      "text/plain": [
       "Category\n",
       "FAMILY                 1972\n",
       "GAME                   1144\n",
       "TOOLS                   843\n",
       "MEDICAL                 463\n",
       "BUSINESS                460\n",
       "PRODUCTIVITY            424\n",
       "PERSONALIZATION         392\n",
       "COMMUNICATION           387\n",
       "SPORTS                  384\n",
       "LIFESTYLE               382\n",
       "FINANCE                 366\n",
       "HEALTH_AND_FITNESS      341\n",
       "PHOTOGRAPHY             335\n",
       "SOCIAL                  295\n",
       "NEWS_AND_MAGAZINES      283\n",
       "SHOPPING                260\n",
       "TRAVEL_AND_LOCAL        258\n",
       "DATING                  234\n",
       "BOOKS_AND_REFERENCE     231\n",
       "VIDEO_PLAYERS           175\n",
       "EDUCATION               156\n",
       "ENTERTAINMENT           149\n",
       "MAPS_AND_NAVIGATION     137\n",
       "FOOD_AND_DRINK          127\n",
       "HOUSE_AND_HOME           88\n",
       "LIBRARIES_AND_DEMO       85\n",
       "AUTO_AND_VEHICLES        85\n",
       "WEATHER                  82\n",
       "ART_AND_DESIGN           65\n",
       "EVENTS                   64\n",
       "PARENTING                60\n",
       "COMICS                   60\n",
       "BEAUTY                   53\n",
       "1.9                       1\n",
       "Name: count, dtype: int64"
      ]
     },
     "execution_count": 5,
     "metadata": {},
     "output_type": "execute_result"
    }
   ],
   "source": [
    "store.Category.value_counts().sort_values(ascending = False)"
   ]
  },
  {
   "cell_type": "code",
   "execution_count": 6,
   "id": "a6a76441",
   "metadata": {},
   "outputs": [],
   "source": [
    "# The given categories are beauty, food and drink and photography \n",
    "\n",
    "# Create an object with only the names of the 3 categories\n",
    "categories = ['BEAUTY', 'FOOD_AND_DRINK','PHOTOGRAPHY']"
   ]
  },
  {
   "cell_type": "code",
   "execution_count": 7,
   "id": "e8d141bc",
   "metadata": {},
   "outputs": [],
   "source": [
    "# create an object with only the data for the above 3 categories\n",
    "\n",
    "store1 = store['Category'].isin(categories)\n"
   ]
  },
  {
   "cell_type": "markdown",
   "id": "91736fc6",
   "metadata": {},
   "source": [
    "# Wrangling"
   ]
  },
  {
   "cell_type": "code",
   "execution_count": 8,
   "id": "7ac03806",
   "metadata": {},
   "outputs": [
    {
     "data": {
      "text/plain": [
       "0    False\n",
       "1    False\n",
       "2    False\n",
       "3    False\n",
       "4    False\n",
       "Name: Category, dtype: bool"
      ]
     },
     "execution_count": 8,
     "metadata": {},
     "output_type": "execute_result"
    }
   ],
   "source": [
    "store1.head()"
   ]
  },
  {
   "cell_type": "code",
   "execution_count": 9,
   "id": "88535fa0",
   "metadata": {},
   "outputs": [],
   "source": [
    "store2= store[store1].copy()"
   ]
  },
  {
   "cell_type": "code",
   "execution_count": 10,
   "id": "12c7681f",
   "metadata": {},
   "outputs": [
    {
     "name": "stdout",
     "output_type": "stream",
     "text": [
      "<class 'pandas.core.frame.DataFrame'>\n",
      "Index: 515 entries, 98 to 10740\n",
      "Data columns (total 14 columns):\n",
      " #   Column          Non-Null Count  Dtype  \n",
      "---  ------          --------------  -----  \n",
      " 0   Unnamed: 0      515 non-null    int64  \n",
      " 1   App             515 non-null    object \n",
      " 2   Category        515 non-null    object \n",
      " 3   Rating          468 non-null    float64\n",
      " 4   Reviews         515 non-null    object \n",
      " 5   Size            515 non-null    object \n",
      " 6   Installs        515 non-null    object \n",
      " 7   Type            515 non-null    object \n",
      " 8   Price           515 non-null    object \n",
      " 9   Content.Rating  515 non-null    object \n",
      " 10  Genres          515 non-null    object \n",
      " 11  Last.Updated    515 non-null    object \n",
      " 12  Current.Ver     515 non-null    object \n",
      " 13  Android.Ver     515 non-null    object \n",
      "dtypes: float64(1), int64(1), object(12)\n",
      "memory usage: 60.4+ KB\n"
     ]
    }
   ],
   "source": [
    "store2.info()"
   ]
  },
  {
   "cell_type": "code",
   "execution_count": 11,
   "id": "7b5d676c",
   "metadata": {},
   "outputs": [
    {
     "data": {
      "text/plain": [
       "Category\n",
       "PHOTOGRAPHY       335\n",
       "FOOD_AND_DRINK    127\n",
       "BEAUTY             53\n",
       "Name: count, dtype: int64"
      ]
     },
     "execution_count": 11,
     "metadata": {},
     "output_type": "execute_result"
    }
   ],
   "source": [
    "store2.Category.value_counts()"
   ]
  },
  {
   "cell_type": "code",
   "execution_count": 12,
   "id": "c4ba0cbe",
   "metadata": {},
   "outputs": [],
   "source": [
    "store3 = store2[['Category','Reviews']]"
   ]
  },
  {
   "cell_type": "code",
   "execution_count": 13,
   "id": "c6d7a7a7",
   "metadata": {},
   "outputs": [
    {
     "name": "stdout",
     "output_type": "stream",
     "text": [
      "<class 'pandas.core.frame.DataFrame'>\n",
      "Index: 515 entries, 98 to 10740\n",
      "Data columns (total 2 columns):\n",
      " #   Column    Non-Null Count  Dtype \n",
      "---  ------    --------------  ----- \n",
      " 0   Category  515 non-null    object\n",
      " 1   Reviews   515 non-null    object\n",
      "dtypes: object(2)\n",
      "memory usage: 12.1+ KB\n"
     ]
    }
   ],
   "source": [
    "store3.info()"
   ]
  },
  {
   "cell_type": "markdown",
   "id": "676d501f",
   "metadata": {},
   "source": [
    "store3 df is consolidated with only the 3 categories\n",
    "\n",
    "### Change Reviews to an integer"
   ]
  },
  {
   "cell_type": "code",
   "execution_count": 14,
   "id": "c22e0635",
   "metadata": {},
   "outputs": [
    {
     "name": "stderr",
     "output_type": "stream",
     "text": [
      "C:\\Users\\chris\\AppData\\Local\\Temp\\ipykernel_18436\\1928227510.py:1: SettingWithCopyWarning: \n",
      "A value is trying to be set on a copy of a slice from a DataFrame.\n",
      "Try using .loc[row_indexer,col_indexer] = value instead\n",
      "\n",
      "See the caveats in the documentation: https://pandas.pydata.org/pandas-docs/stable/user_guide/indexing.html#returning-a-view-versus-a-copy\n",
      "  store3.Reviews = store3.Reviews.astype(int)\n"
     ]
    }
   ],
   "source": [
    "store3.Reviews = store3.Reviews.astype(int)"
   ]
  },
  {
   "cell_type": "code",
   "execution_count": 15,
   "id": "8d0ec21d",
   "metadata": {},
   "outputs": [
    {
     "name": "stdout",
     "output_type": "stream",
     "text": [
      "<class 'pandas.core.frame.DataFrame'>\n",
      "Index: 515 entries, 98 to 10740\n",
      "Data columns (total 2 columns):\n",
      " #   Column    Non-Null Count  Dtype \n",
      "---  ------    --------------  ----- \n",
      " 0   Category  515 non-null    object\n",
      " 1   Reviews   515 non-null    int32 \n",
      "dtypes: int32(1), object(1)\n",
      "memory usage: 10.1+ KB\n"
     ]
    }
   ],
   "source": [
    "store3.info()"
   ]
  },
  {
   "cell_type": "code",
   "execution_count": 16,
   "id": "0c77fff6",
   "metadata": {},
   "outputs": [],
   "source": [
    "# Recode the Categories to numeric representation\n",
    "\n",
    "def catRecode(variable):\n",
    "    if variable == \"BEAUTY\":\n",
    "        return 0 \n",
    "    if variable == \"FOOD_AND_DRINK\":\n",
    "        return 1 \n",
    "    if variable == \"PHOTOGRAPHY\":\n",
    "        return 2 "
   ]
  },
  {
   "cell_type": "code",
   "execution_count": 17,
   "id": "8698a3bc",
   "metadata": {},
   "outputs": [
    {
     "name": "stderr",
     "output_type": "stream",
     "text": [
      "C:\\Users\\chris\\AppData\\Local\\Temp\\ipykernel_18436\\3854112565.py:1: SettingWithCopyWarning: \n",
      "A value is trying to be set on a copy of a slice from a DataFrame.\n",
      "Try using .loc[row_indexer,col_indexer] = value instead\n",
      "\n",
      "See the caveats in the documentation: https://pandas.pydata.org/pandas-docs/stable/user_guide/indexing.html#returning-a-view-versus-a-copy\n",
      "  store3['CategoryR'] = store3['Category'].apply(catRecode)\n"
     ]
    }
   ],
   "source": [
    "store3['CategoryR'] = store3['Category'].apply(catRecode)"
   ]
  },
  {
   "cell_type": "code",
   "execution_count": 18,
   "id": "a9b1d35b",
   "metadata": {},
   "outputs": [
    {
     "data": {
      "text/plain": [
       "CategoryR\n",
       "2    335\n",
       "1    127\n",
       "0     53\n",
       "Name: count, dtype: int64"
      ]
     },
     "execution_count": 18,
     "metadata": {},
     "output_type": "execute_result"
    }
   ],
   "source": [
    "store3.CategoryR.value_counts()"
   ]
  },
  {
   "cell_type": "code",
   "execution_count": 19,
   "id": "f02e9fdc",
   "metadata": {},
   "outputs": [],
   "source": [
    "# Drop old Category column\n",
    "store4 = store3[['CategoryR', 'Reviews']]"
   ]
  },
  {
   "cell_type": "markdown",
   "id": "a8c20826",
   "metadata": {},
   "source": [
    "# Assess Normality"
   ]
  },
  {
   "cell_type": "code",
   "execution_count": 20,
   "id": "31640c68",
   "metadata": {},
   "outputs": [
    {
     "name": "stderr",
     "output_type": "stream",
     "text": [
      "C:\\Users\\chris\\AppData\\Local\\Temp\\ipykernel_18436\\3502475625.py:1: UserWarning: \n",
      "\n",
      "`distplot` is a deprecated function and will be removed in seaborn v0.14.0.\n",
      "\n",
      "Please adapt your code to use either `displot` (a figure-level function with\n",
      "similar flexibility) or `histplot` (an axes-level function for histograms).\n",
      "\n",
      "For a guide to updating your code to use the new functions, please see\n",
      "https://gist.github.com/mwaskom/de44147ed2974457ad6372750bbe5751\n",
      "\n",
      "  sns.distplot(store4.Reviews)\n"
     ]
    },
    {
     "data": {
      "text/plain": [
       "<AxesSubplot: xlabel='Reviews', ylabel='Density'>"
      ]
     },
     "execution_count": 20,
     "metadata": {},
     "output_type": "execute_result"
    },
    {
     "data": {
      "image/png": "[encoded data removed]",
      "text/plain": [
       "<Figure size 640x480 with 1 Axes>"
      ]
     },
     "metadata": {},
     "output_type": "display_data"
    }
   ],
   "source": [
    "sns.distplot(store4.Reviews)"
   ]
  },
  {
   "cell_type": "markdown",
   "id": "5d9ebd3a",
   "metadata": {},
   "source": [
    "#### Not Normal, has positive skew"
   ]
  },
  {
   "cell_type": "code",
   "execution_count": 21,
   "id": "e90cd7cc",
   "metadata": {},
   "outputs": [],
   "source": [
    "# Square root using np\n",
    "store4['ReviewsSQRT'] = np.sqrt(store4.Reviews)"
   ]
  },
  {
   "cell_type": "code",
   "execution_count": 22,
   "id": "67bd08e4",
   "metadata": {},
   "outputs": [
    {
     "name": "stderr",
     "output_type": "stream",
     "text": [
      "C:\\Users\\chris\\AppData\\Local\\Temp\\ipykernel_18436\\2839568278.py:1: UserWarning: \n",
      "\n",
      "`distplot` is a deprecated function and will be removed in seaborn v0.14.0.\n",
      "\n",
      "Please adapt your code to use either `displot` (a figure-level function with\n",
      "similar flexibility) or `histplot` (an axes-level function for histograms).\n",
      "\n",
      "For a guide to updating your code to use the new functions, please see\n",
      "https://gist.github.com/mwaskom/de44147ed2974457ad6372750bbe5751\n",
      "\n",
      "  sns.distplot(store4.ReviewsSQRT)\n"
     ]
    },
    {
     "data": {
      "text/plain": [
       "<AxesSubplot: xlabel='ReviewsSQRT', ylabel='Density'>"
      ]
     },
     "execution_count": 22,
     "metadata": {},
     "output_type": "execute_result"
    },
    {
     "data": {
      "image/png": "[encoded data removed]",
      "text/plain": [
       "<Figure size 640x480 with 1 Axes>"
      ]
     },
     "metadata": {},
     "output_type": "display_data"
    }
   ],
   "source": [
    "sns.distplot(store4.ReviewsSQRT)"
   ]
  },
  {
   "cell_type": "markdown",
   "id": "6c6e0a06",
   "metadata": {},
   "source": [
    "#### Still has positive Skew"
   ]
  },
  {
   "cell_type": "code",
   "execution_count": 25,
   "id": "5f77f460",
   "metadata": {},
   "outputs": [
    {
     "name": "stderr",
     "output_type": "stream",
     "text": [
      "C:\\Python3\\Lib\\site-packages\\pandas\\core\\arraylike.py:396: RuntimeWarning: divide by zero encountered in log\n",
      "  result = getattr(ufunc, method)(*inputs, **kwargs)\n"
     ]
    }
   ],
   "source": [
    "store4['ReviewsLOG'] = np.log(store4.Reviews)"
   ]
  },
  {
   "cell_type": "markdown",
   "id": "302f7904",
   "metadata": {},
   "source": [
    "#### Plotting with log returns error due to infinite values. See below from removine infinite values. "
   ]
  },
  {
   "cell_type": "code",
   "execution_count": 27,
   "id": "81eb5f4a",
   "metadata": {},
   "outputs": [],
   "source": [
    "finite_LOG = store4.ReviewsLOG[np.isfinite(store4.ReviewsLOG)] "
   ]
  },
  {
   "cell_type": "code",
   "execution_count": 28,
   "id": "73cfcd88",
   "metadata": {},
   "outputs": [
    {
     "name": "stderr",
     "output_type": "stream",
     "text": [
      "C:\\Users\\chris\\AppData\\Local\\Temp\\ipykernel_18436\\2057637875.py:1: UserWarning: \n",
      "\n",
      "`distplot` is a deprecated function and will be removed in seaborn v0.14.0.\n",
      "\n",
      "Please adapt your code to use either `displot` (a figure-level function with\n",
      "similar flexibility) or `histplot` (an axes-level function for histograms).\n",
      "\n",
      "For a guide to updating your code to use the new functions, please see\n",
      "https://gist.github.com/mwaskom/de44147ed2974457ad6372750bbe5751\n",
      "\n",
      "  sns.distplot(finite_LOG)\n"
     ]
    },
    {
     "data": {
      "text/plain": [
       "<AxesSubplot: xlabel='ReviewsLOG', ylabel='Density'>"
      ]
     },
     "execution_count": 28,
     "metadata": {},
     "output_type": "execute_result"
    },
    {
     "data": {
      "image/png": "[encoded data removed]",
      "text/plain": [
       "<Figure size 640x480 with 1 Axes>"
      ]
     },
     "metadata": {},
     "output_type": "display_data"
    }
   ],
   "source": [
    "sns.distplot(finite_LOG)"
   ]
  },
  {
   "cell_type": "markdown",
   "id": "e603a8f5",
   "metadata": {},
   "source": [
    "### This appears to be a little closer to normal but will use Square Root data to follow along with the assignment. "
   ]
  },
  {
   "cell_type": "markdown",
   "id": "59f1c13a",
   "metadata": {},
   "source": [
    "# Homogeneity of Variance"
   ]
  },
  {
   "cell_type": "code",
   "execution_count": 29,
   "id": "a622167b",
   "metadata": {},
   "outputs": [
    {
     "data": {
      "text/plain": [
       "BartlettResult(statistic=6187.981817647615, pvalue=0.0)"
      ]
     },
     "execution_count": 29,
     "metadata": {},
     "output_type": "execute_result"
    }
   ],
   "source": [
    "# Bartletts Test \n",
    "scipy.stats.bartlett(store4['ReviewsSQRT'], store4['CategoryR'])"
   ]
  },
  {
   "cell_type": "markdown",
   "id": "9f688602",
   "metadata": {},
   "source": [
    "The Bartlett Test pvalue is less than .05 so this fails for homogeneity"
   ]
  },
  {
   "cell_type": "code",
   "execution_count": 30,
   "id": "e0cd03c8",
   "metadata": {},
   "outputs": [
    {
     "data": {
      "text/plain": [
       "FlignerResult(statistic=642.0602581715318, pvalue=1.1908711834100128e-141)"
      ]
     },
     "execution_count": 30,
     "metadata": {},
     "output_type": "execute_result"
    }
   ],
   "source": [
    "# Fligners Test\n",
    "scipy.stats.fligner(store4['ReviewsSQRT'], store4['CategoryR'])"
   ]
  },
  {
   "cell_type": "markdown",
   "id": "66ed69bb",
   "metadata": {},
   "source": [
    "The Fligner's Test pvalue is less than .05 so this fails for homogeneity\n",
    "\n",
    "### There is no way to correct for homogeneity in Python, R is recommended for this analysis."
   ]
  },
  {
   "cell_type": "markdown",
   "id": "26381ebe",
   "metadata": {},
   "source": [
    "# Run ANOVA as though data passed assumptions"
   ]
  },
  {
   "cell_type": "code",
   "execution_count": 33,
   "id": "927da3be",
   "metadata": {},
   "outputs": [
    {
     "data": {
      "text/plain": [
       "F_onewayResult(statistic=11.467490725511773, pvalue=1.342932747373518e-05)"
      ]
     },
     "execution_count": 33,
     "metadata": {},
     "output_type": "execute_result"
    }
   ],
   "source": [
    "stats.f_oneway(store['Reviews'][store['Category']=='BEAUTY'],\n",
    "                    store['Reviews'][store['Category']=='FOOD_AND_DRINK'],\n",
    "                    store['Reviews'][store['Category']=='PHOTOGRAPHY'])"
   ]
  },
  {
   "cell_type": "code",
   "execution_count": 35,
   "id": "a27ac0f1",
   "metadata": {},
   "outputs": [
    {
     "name": "stdout",
     "output_type": "stream",
     "text": [
      " Multiple Comparison of Means - Tukey HSD, FWER=0.05  \n",
      "======================================================\n",
      "group1 group2 meandiff p-adj   lower    upper   reject\n",
      "------------------------------------------------------\n",
      "     0      1   111.89 0.4062 -93.3095 317.0896  False\n",
      "     0      2  419.474    0.0 233.9776 604.9704   True\n",
      "     1      2  307.584    0.0 176.8235 438.3446   True\n",
      "------------------------------------------------------\n"
     ]
    }
   ],
   "source": [
    "# Post Hoc\n",
    "postHoc = MultiComparison(store4['ReviewsSQRT'], store4['CategoryR'])\n",
    "postHocResults = postHoc.tukeyhsd()\n",
    "print(postHocResults)\n",
    "\n",
    "\n",
    "# First you use the MultiComparison() function to specify the variables\n",
    "# to use. Then, you call the tukeyhsd() function to run the Tukey's \n",
    "# correction on the data"
   ]
  },
  {
   "cell_type": "code",
   "execution_count": null,
   "id": "b1d752c0",
   "metadata": {},
   "outputs": [],
   "source": []
  }
 ],
 "metadata": {
  "kernelspec": {
   "display_name": "Python 3 (ipykernel)",
   "language": "python",
   "name": "python3"
  },
  "language_info": {
   "codemirror_mode": {
    "name": "ipython",
    "version": 3
   },
   "file_extension": ".py",
   "mimetype": "text/x-python",
   "name": "python",
   "nbconvert_exporter": "python",
   "pygments_lexer": "ipython3",
   "version": "3.11.2"
  }
 },
 "nbformat": 4,
 "nbformat_minor": 5
}
